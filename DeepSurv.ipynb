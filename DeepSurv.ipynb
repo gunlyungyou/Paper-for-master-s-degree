{
 "cells": [
  {
   "cell_type": "code",
   "execution_count": 4,
   "metadata": {},
   "outputs": [],
   "source": [
    "# Use DeepSurv from the repo\n",
    "import lasagne\n",
    "from deepsurv import deep_surv, utils, datasets\n",
    "\n",
    "from deepsurv.deepsurv_logger import DeepSurvLogger, TensorboardLogger\n",
    "from deepsurv import viz\n",
    "import deepsurv\n",
    "\n",
    "import numpy as np\n",
    "import pandas as pd\n",
    "\n",
    "from sklearn.model_selection import train_test_split\n",
    "from lifelines.utils import concordance_index\n",
    "from lifelines import CoxPHFitter\n",
    "import matplotlib\n",
    "import matplotlib.pyplot as plt\n",
    "%matplotlib inline\n",
    "from bayes_opt import bayesian_optimization\n",
    "import optunity"
   ]
  },
  {
   "cell_type": "code",
   "execution_count": 14,
   "metadata": {},
   "outputs": [
    {
     "name": "stdout",
     "output_type": "stream",
     "text": [
      "e\n",
      "t\n",
      "x\n"
     ]
    },
    {
     "name": "stderr",
     "output_type": "stream",
     "text": [
      "C:\\Users\\ASUS\\Anaconda3\\lib\\site-packages\\h5py\\_hl\\dataset.py:313: H5pyDeprecationWarning: dataset.value has been deprecated. Use dataset[()] instead.\n",
      "  \"Use dataset[()] instead.\", H5pyDeprecationWarning)\n"
     ]
    }
   ],
   "source": [
    "import h5py\n",
    "filename = 'C:/Users/ASUS/Dropbox/석사학위논문/DeepSurv-master/data/whas_train_test.h5'\n",
    "f = h5py.File(filename, 'r')\n",
    "\n",
    "#Get the HDF5 group\n",
    "group = f['train']\n",
    "\n",
    "#Checkout what keys are inside that group.\n",
    "for key in group.keys():\n",
    "    print(key)\n",
    "\n",
    "data_x = group['x'].value\n",
    "data_t = group['t'].value\n",
    "data_e = group['e'].value\n",
    "\n",
    "#Do whatever you want with data\n",
    "\n",
    "#After you are done\n",
    "f.close()\n",
    "\n",
    "train_df = pd.DataFrame(data_x)\n",
    "train_df['Time'] = np.int32(data_t)\n",
    "train_df['Event'] = data_e"
   ]
  },
  {
   "cell_type": "code",
   "execution_count": 15,
   "metadata": {},
   "outputs": [],
   "source": [
    "train_df, val_df = train_test_split(train_df, test_size = 0.2)"
   ]
  },
  {
   "cell_type": "code",
   "execution_count": 16,
   "metadata": {},
   "outputs": [],
   "source": [
    "# event_col is the header in the df that represents the 'Event / Status' indicator\n",
    "# time_col is the header in the df that represents the event time\n",
    "def dataframe_to_deepsurv_ds(df, event_col = 'Event', time_col = 'Time'):\n",
    "    # Extract the event and time columns as numpy arrays\n",
    "    e = df[event_col].values.astype(np.int32)\n",
    "    t = df[time_col].values.astype(np.float32)\n",
    "\n",
    "    # Extract the patient's covariates as a numpy array\n",
    "    x_df = df.drop([event_col, time_col], axis = 1)\n",
    "    x = x_df.values.astype(np.float32)\n",
    "    \n",
    "    # Return the deep surv dataframe\n",
    "    return {\n",
    "        'x' : x,\n",
    "        'e' : e,\n",
    "        't' : t\n",
    "    }\n",
    "\n",
    "# If the headers of the csv change, you can replace the values of \n",
    "# 'event_col' and 'time_col' with the names of the new headers\n",
    "# You can also use this function on your training dataset, validation dataset, and testing dataset\n",
    "train_data = dataframe_to_deepsurv_ds(train_df, event_col = 'Event', time_col= 'Time')\n",
    "val_data = dataframe_to_deepsurv_ds(val_df, event_col = 'Event', time_col = 'Time')"
   ]
  },
  {
   "cell_type": "code",
   "execution_count": 23,
   "metadata": {},
   "outputs": [],
   "source": [
    "#Hyperparameter tunning\n",
    "def get_optimizer_from_str(update_fn):\n",
    "    if update_fn == 'sgd':\n",
    "        return lasagne.updates.sgd\n",
    "    elif update_fn == 'adam':\n",
    "        return lasagne.updates.adam\n",
    "    elif update_fn == 'rmsprop':\n",
    "        return lasagne.updates.rmsprop\n",
    "\n",
    "    return None\n",
    "\n",
    "def get_objective_function(num_epochs):\n",
    "\n",
    "    def format_to_deepsurv(x, y):\n",
    "        return {\n",
    "            'x': x,\n",
    "            'e': y[:,0].astype(np.int32),\n",
    "            't': y[:,1].astype(np.float32)\n",
    "        }\n",
    "\n",
    "    def get_hyperparams(params):\n",
    "        hyperparams = {\n",
    "            'batch_norm': False,\n",
    "            'activation': 'selu',\n",
    "            'standardize': True\n",
    "        }\n",
    "        # @TODO add default parameters and only take necessary args from params\n",
    "        # protect from params including some other key\n",
    "\n",
    "        if 'num_layers' in params and 'num_nodes' in params:\n",
    "            params['hidden_layers_sizes'] = [int(params['num_nodes'])] * int(params['num_layers'])\n",
    "            del params['num_layers']\n",
    "            del params['num_nodes']\n",
    "\n",
    "        if 'learning_rate' in params:\n",
    "            params['learning_rate'] = 10 ** params['learning_rate']\n",
    "\n",
    "        hyperparams.update(params)\n",
    "        return hyperparams\n",
    "\n",
    "    def train_deepsurv(x_train, y_train, x_test, y_test,\n",
    "        **kwargs):\n",
    "        # Standardize the datasets\n",
    "        train_mean = x_train.mean(axis = 0)\n",
    "        train_std = x_train.std(axis = 0)\n",
    "\n",
    "        x_train = (x_train - train_mean) / train_std\n",
    "        x_test = (x_test - train_mean) / train_std\n",
    "\n",
    "        train_data = format_to_deepsurv(x_train, y_train)\n",
    "        valid_data = format_to_deepsurv(x_test, y_test)\n",
    "\n",
    "        hyperparams = get_hyperparams(kwargs)\n",
    "\n",
    "        network = deep_surv.DeepSurv(n_in=x_train.shape[1], **hyperparams)\n",
    "        metrics = network.train(train_data, n_epochs = num_epochs,\n",
    "            update_fn = lasagne.updates.nesterov_momentum, verbose = False)\n",
    "\n",
    "        result = network.get_concordance_index(**valid_data)\n",
    "        return result\n",
    "\n",
    "    return train_deepsurv\n",
    "\n",
    "\n",
    "\n",
    "if __name__ == '__main__':\n",
    "\n",
    "    NUM_EPOCHS = 500\n",
    "    NUM_FOLDS = 10\n",
    "\n",
    "    x = train_data['x']\n",
    "    e = train_data['e']\n",
    "    \n",
    "    t = train_data['t']\n",
    "    y = np.column_stack((e, t))\n",
    "    \n",
    "    \n",
    "\n",
    "    opt_fxn = get_objective_function(NUM_EPOCHS)\n",
    "    opt_fxn = optunity.cross_validated(x=x, y=y, num_folds=NUM_FOLDS,\n",
    "        strata=False)(opt_fxn)\n",
    "\n",
    "    opt_params, _, _ = optunity.maximize(opt_fxn, num_evals=200,\n",
    "        learning_rate =[-7,-3], lr_decay = [0.0, 0.001], momentum = [0.8, 0.95], L2_reg = [0.05, 5.0], dropout = [0.0, 0.5])"
   ]
  },
  {
   "cell_type": "code",
   "execution_count": 24,
   "metadata": {},
   "outputs": [
    {
     "data": {
      "text/plain": [
       "{'learning_rate': -3.909951291767589,\n",
       " 'lr_decay': 0.0004735351562499999,\n",
       " 'momentum': 0.8905769329901524,\n",
       " 'L2_reg': 3.1215680425516608,\n",
       " 'dropout': 0.316669921875}"
      ]
     },
     "execution_count": 24,
     "metadata": {},
     "output_type": "execute_result"
    }
   ],
   "source": [
    "opt_params"
   ]
  },
  {
   "cell_type": "code",
   "execution_count": 1,
   "metadata": {},
   "outputs": [],
   "source": [
    "hyperparams = {\n",
    "    \"L2_reg\": 2.8032470703125, \n",
    "    \"dropout\": 0.0899951171875, \n",
    "    \"learning_rate\": 0.023825980458515722, \n",
    "    \"lr_decay\": 0.0005817382812499998, \n",
    "    \"momentum\": 0.8383100585937501, \n",
    "    \"batch_norm\": True, \n",
    "    \"standardize\": True, \n",
    "    \"n_in\": 6, \n",
    "    \"hidden_layers_sizes\": [120,120,120]\n",
    "}\n"
   ]
  },
  {
   "cell_type": "code",
   "execution_count": 5,
   "metadata": {},
   "outputs": [],
   "source": [
    "hyperparams = {\n",
    "\"learning_rate\": 0.023094096518941305, \n",
    " \"dropout\": 0.017243652343750002, \n",
    " \"lr_decay\": 0.0009819482421875, \n",
    " \"momentum\": 0.926554443359375, \n",
    " \"L2_reg\": 2.364680908203125, \n",
    " \"batch_norm\": True, \n",
    " \"standardize\": True, \n",
    " \"n_in\": 6, \n",
    " \"hidden_layers_sizes\": [26, 26, 26],\n",
    " \"activation\": \"selu\"}\n"
   ]
  },
  {
   "cell_type": "code",
   "execution_count": 64,
   "metadata": {},
   "outputs": [],
   "source": [
    "hyperparams = {\n",
    "    \"L2_reg\": 3.1215680425516608, \n",
    "    \"dropout\": 0.316669921875, \n",
    "    \"learning_rate\": 0.023825980458515722, \n",
    "    \"lr_decay\": 0.0004735351562499999, \n",
    "    \"momentum\": 0.8905769329901524, \n",
    "    \"batch_norm\": True, \n",
    "    \"standardize\": True, \n",
    "    \"n_in\": 5, \n",
    "    \"hidden_layers_sizes\": [120, 120, 120]\n",
    "}"
   ]
  },
  {
   "cell_type": "code",
   "execution_count": 13,
   "metadata": {},
   "outputs": [
    {
     "ename": "ValueError",
     "evalue": "shapes (1236,7) and (5,26) not aligned: 7 (dim 1) != 5 (dim 0)\nApply node that caused the error: dot(x, W)\nToposort index: 13\nInputs types: [TensorType(float32, matrix), TensorType(float64, matrix)]\nInputs shapes: [(1236, 7), (5, 26)]\nInputs strides: [(28, 4), (208, 8)]\nInputs values: ['not shown', 'not shown']\nOutputs clients: [[Sum{axis=[0], acc_dtype=float64}(dot.0), Elemwise{sub,no_inplace}(dot.0, InplaceDimShuffle{x,0}.0), Elemwise{Sub}[(0, 0)](dot.0, mean)]]\n\nBacktrace when the node is created(use Theano flag traceback.limit=N to make it longer):\n  File \"<ipython-input-13-d947fa66cf27>\", line 21, in <module>\n    metrics = model.train(train_data, val_data, validation_frequency = 100, n_epochs = n_epochs, logger=logger, update_fn=update_fn)\n  File \"C:\\Users\\ASUS\\Anaconda3\\lib\\site-packages\\deepsurv\\deep_surv.py\", line 396, in train\n    update_fn = update_fn, **kwargs\n  File \"C:\\Users\\ASUS\\Anaconda3\\lib\\site-packages\\deepsurv\\deep_surv.py\", line 243, in _get_train_valid_fn\n    learning_rate=learning_rate, **kwargs\n  File \"C:\\Users\\ASUS\\Anaconda3\\lib\\site-packages\\deepsurv\\deep_surv.py\", line 192, in _get_loss_updates\n    + regularize_layer_params(self.network, l2) * L2_reg\n  File \"C:\\Users\\ASUS\\Anaconda3\\lib\\site-packages\\deepsurv\\deep_surv.py\", line 155, in _negative_log_likelihood\n    risk = self.risk(deterministic)\n  File \"C:\\Users\\ASUS\\Anaconda3\\lib\\site-packages\\deepsurv\\deep_surv.py\", line 541, in risk\n    deterministic = deterministic)\n  File \"C:\\Users\\ASUS\\Anaconda3\\lib\\site-packages\\lasagne\\layers\\helper.py\", line 197, in get_output\n    all_outputs[layer] = layer.get_output_for(layer_inputs, **kwargs)\n  File \"C:\\Users\\ASUS\\Anaconda3\\lib\\site-packages\\lasagne\\layers\\dense.py\", line 121, in get_output_for\n    activation = T.dot(input, self.W)\n\nHINT: Use the Theano flag 'exception_verbosity=high' for a debugprint and storage map footprint of this apply node.",
     "output_type": "error",
     "traceback": [
      "\u001b[1;31m---------------------------------------------------------------------------\u001b[0m",
      "\u001b[1;31mValueError\u001b[0m                                Traceback (most recent call last)",
      "\u001b[1;32m~\\Anaconda3\\lib\\site-packages\\theano\\compile\\function_module.py\u001b[0m in \u001b[0;36m__call__\u001b[1;34m(self, *args, **kwargs)\u001b[0m\n\u001b[0;32m    902\u001b[0m             \u001b[0moutputs\u001b[0m \u001b[1;33m=\u001b[0m\u001b[0;31m\\\u001b[0m\u001b[1;33m\u001b[0m\u001b[1;33m\u001b[0m\u001b[0m\n\u001b[1;32m--> 903\u001b[1;33m                 \u001b[0mself\u001b[0m\u001b[1;33m.\u001b[0m\u001b[0mfn\u001b[0m\u001b[1;33m(\u001b[0m\u001b[1;33m)\u001b[0m \u001b[1;32mif\u001b[0m \u001b[0moutput_subset\u001b[0m \u001b[1;32mis\u001b[0m \u001b[1;32mNone\u001b[0m \u001b[1;32melse\u001b[0m\u001b[0;31m\\\u001b[0m\u001b[1;33m\u001b[0m\u001b[1;33m\u001b[0m\u001b[0m\n\u001b[0m\u001b[0;32m    904\u001b[0m                 \u001b[0mself\u001b[0m\u001b[1;33m.\u001b[0m\u001b[0mfn\u001b[0m\u001b[1;33m(\u001b[0m\u001b[0moutput_subset\u001b[0m\u001b[1;33m=\u001b[0m\u001b[0moutput_subset\u001b[0m\u001b[1;33m)\u001b[0m\u001b[1;33m\u001b[0m\u001b[1;33m\u001b[0m\u001b[0m\n",
      "\u001b[1;32m~\\Anaconda3\\lib\\site-packages\\theano\\gof\\op.py\u001b[0m in \u001b[0;36mrval\u001b[1;34m(p, i, o, n)\u001b[0m\n\u001b[0;32m    891\u001b[0m             \u001b[1;32mdef\u001b[0m \u001b[0mrval\u001b[0m\u001b[1;33m(\u001b[0m\u001b[0mp\u001b[0m\u001b[1;33m=\u001b[0m\u001b[0mp\u001b[0m\u001b[1;33m,\u001b[0m \u001b[0mi\u001b[0m\u001b[1;33m=\u001b[0m\u001b[0mnode_input_storage\u001b[0m\u001b[1;33m,\u001b[0m \u001b[0mo\u001b[0m\u001b[1;33m=\u001b[0m\u001b[0mnode_output_storage\u001b[0m\u001b[1;33m,\u001b[0m \u001b[0mn\u001b[0m\u001b[1;33m=\u001b[0m\u001b[0mnode\u001b[0m\u001b[1;33m)\u001b[0m\u001b[1;33m:\u001b[0m\u001b[1;33m\u001b[0m\u001b[1;33m\u001b[0m\u001b[0m\n\u001b[1;32m--> 892\u001b[1;33m                 \u001b[0mr\u001b[0m \u001b[1;33m=\u001b[0m \u001b[0mp\u001b[0m\u001b[1;33m(\u001b[0m\u001b[0mn\u001b[0m\u001b[1;33m,\u001b[0m \u001b[1;33m[\u001b[0m\u001b[0mx\u001b[0m\u001b[1;33m[\u001b[0m\u001b[1;36m0\u001b[0m\u001b[1;33m]\u001b[0m \u001b[1;32mfor\u001b[0m \u001b[0mx\u001b[0m \u001b[1;32min\u001b[0m \u001b[0mi\u001b[0m\u001b[1;33m]\u001b[0m\u001b[1;33m,\u001b[0m \u001b[0mo\u001b[0m\u001b[1;33m)\u001b[0m\u001b[1;33m\u001b[0m\u001b[1;33m\u001b[0m\u001b[0m\n\u001b[0m\u001b[0;32m    893\u001b[0m                 \u001b[1;32mfor\u001b[0m \u001b[0mo\u001b[0m \u001b[1;32min\u001b[0m \u001b[0mnode\u001b[0m\u001b[1;33m.\u001b[0m\u001b[0moutputs\u001b[0m\u001b[1;33m:\u001b[0m\u001b[1;33m\u001b[0m\u001b[1;33m\u001b[0m\u001b[0m\n",
      "\u001b[1;32m~\\Anaconda3\\lib\\site-packages\\theano\\tensor\\basic.py\u001b[0m in \u001b[0;36mperform\u001b[1;34m(self, node, inp, out)\u001b[0m\n\u001b[0;32m   5969\u001b[0m         \u001b[1;31m# ndarray\u001b[0m\u001b[1;33m\u001b[0m\u001b[1;33m\u001b[0m\u001b[1;33m\u001b[0m\u001b[0m\n\u001b[1;32m-> 5970\u001b[1;33m         \u001b[0mz\u001b[0m\u001b[1;33m[\u001b[0m\u001b[1;36m0\u001b[0m\u001b[1;33m]\u001b[0m \u001b[1;33m=\u001b[0m \u001b[0mnp\u001b[0m\u001b[1;33m.\u001b[0m\u001b[0masarray\u001b[0m\u001b[1;33m(\u001b[0m\u001b[0mnp\u001b[0m\u001b[1;33m.\u001b[0m\u001b[0mdot\u001b[0m\u001b[1;33m(\u001b[0m\u001b[0mx\u001b[0m\u001b[1;33m,\u001b[0m \u001b[0my\u001b[0m\u001b[1;33m)\u001b[0m\u001b[1;33m)\u001b[0m\u001b[1;33m\u001b[0m\u001b[1;33m\u001b[0m\u001b[0m\n\u001b[0m\u001b[0;32m   5971\u001b[0m \u001b[1;33m\u001b[0m\u001b[0m\n",
      "\u001b[1;31mValueError\u001b[0m: shapes (1236,7) and (5,26) not aligned: 7 (dim 1) != 5 (dim 0)",
      "\nDuring handling of the above exception, another exception occurred:\n",
      "\u001b[1;31mValueError\u001b[0m                                Traceback (most recent call last)",
      "\u001b[1;32m<ipython-input-13-d947fa66cf27>\u001b[0m in \u001b[0;36m<module>\u001b[1;34m\u001b[0m\n\u001b[0;32m     19\u001b[0m \u001b[1;33m\u001b[0m\u001b[0m\n\u001b[0;32m     20\u001b[0m \u001b[1;31m# If you have validation data, you can add it as the second parameter to the function\u001b[0m\u001b[1;33m\u001b[0m\u001b[1;33m\u001b[0m\u001b[1;33m\u001b[0m\u001b[0m\n\u001b[1;32m---> 21\u001b[1;33m \u001b[0mmetrics\u001b[0m \u001b[1;33m=\u001b[0m \u001b[0mmodel\u001b[0m\u001b[1;33m.\u001b[0m\u001b[0mtrain\u001b[0m\u001b[1;33m(\u001b[0m\u001b[0mtrain_data\u001b[0m\u001b[1;33m,\u001b[0m \u001b[0mval_data\u001b[0m\u001b[1;33m,\u001b[0m \u001b[0mvalidation_frequency\u001b[0m \u001b[1;33m=\u001b[0m \u001b[1;36m100\u001b[0m\u001b[1;33m,\u001b[0m \u001b[0mn_epochs\u001b[0m \u001b[1;33m=\u001b[0m \u001b[0mn_epochs\u001b[0m\u001b[1;33m,\u001b[0m \u001b[0mlogger\u001b[0m\u001b[1;33m=\u001b[0m\u001b[0mlogger\u001b[0m\u001b[1;33m,\u001b[0m \u001b[0mupdate_fn\u001b[0m\u001b[1;33m=\u001b[0m\u001b[0mupdate_fn\u001b[0m\u001b[1;33m)\u001b[0m\u001b[1;33m\u001b[0m\u001b[1;33m\u001b[0m\u001b[0m\n\u001b[0m",
      "\u001b[1;32m~\\Anaconda3\\lib\\site-packages\\deepsurv\\deep_surv.py\u001b[0m in \u001b[0;36mtrain\u001b[1;34m(self, train_data, valid_data, n_epochs, validation_frequency, patience, improvement_threshold, patience_increase, logger, update_fn, verbose, **kwargs)\u001b[0m\n\u001b[0;32m    406\u001b[0m                 \u001b[0mmomentum\u001b[0m \u001b[1;33m=\u001b[0m \u001b[0mself\u001b[0m\u001b[1;33m.\u001b[0m\u001b[0mmomentum\u001b[0m\u001b[1;33m\u001b[0m\u001b[1;33m\u001b[0m\u001b[0m\n\u001b[0;32m    407\u001b[0m \u001b[1;33m\u001b[0m\u001b[0m\n\u001b[1;32m--> 408\u001b[1;33m             \u001b[0mloss\u001b[0m \u001b[1;33m=\u001b[0m \u001b[0mtrain_fn\u001b[0m\u001b[1;33m(\u001b[0m\u001b[0mx_train\u001b[0m\u001b[1;33m,\u001b[0m \u001b[0me_train\u001b[0m\u001b[1;33m)\u001b[0m\u001b[1;33m\u001b[0m\u001b[1;33m\u001b[0m\u001b[0m\n\u001b[0m\u001b[0;32m    409\u001b[0m \u001b[1;33m\u001b[0m\u001b[0m\n\u001b[0;32m    410\u001b[0m             \u001b[0mlogger\u001b[0m\u001b[1;33m.\u001b[0m\u001b[0mlogValue\u001b[0m\u001b[1;33m(\u001b[0m\u001b[1;34m'loss'\u001b[0m\u001b[1;33m,\u001b[0m \u001b[0mloss\u001b[0m\u001b[1;33m,\u001b[0m \u001b[0mepoch\u001b[0m\u001b[1;33m)\u001b[0m\u001b[1;33m\u001b[0m\u001b[1;33m\u001b[0m\u001b[0m\n",
      "\u001b[1;32m~\\Anaconda3\\lib\\site-packages\\theano\\compile\\function_module.py\u001b[0m in \u001b[0;36m__call__\u001b[1;34m(self, *args, **kwargs)\u001b[0m\n\u001b[0;32m    915\u001b[0m                     \u001b[0mnode\u001b[0m\u001b[1;33m=\u001b[0m\u001b[0mself\u001b[0m\u001b[1;33m.\u001b[0m\u001b[0mfn\u001b[0m\u001b[1;33m.\u001b[0m\u001b[0mnodes\u001b[0m\u001b[1;33m[\u001b[0m\u001b[0mself\u001b[0m\u001b[1;33m.\u001b[0m\u001b[0mfn\u001b[0m\u001b[1;33m.\u001b[0m\u001b[0mposition_of_error\u001b[0m\u001b[1;33m]\u001b[0m\u001b[1;33m,\u001b[0m\u001b[1;33m\u001b[0m\u001b[1;33m\u001b[0m\u001b[0m\n\u001b[0;32m    916\u001b[0m                     \u001b[0mthunk\u001b[0m\u001b[1;33m=\u001b[0m\u001b[0mthunk\u001b[0m\u001b[1;33m,\u001b[0m\u001b[1;33m\u001b[0m\u001b[1;33m\u001b[0m\u001b[0m\n\u001b[1;32m--> 917\u001b[1;33m                     storage_map=getattr(self.fn, 'storage_map', None))\n\u001b[0m\u001b[0;32m    918\u001b[0m             \u001b[1;32melse\u001b[0m\u001b[1;33m:\u001b[0m\u001b[1;33m\u001b[0m\u001b[1;33m\u001b[0m\u001b[0m\n\u001b[0;32m    919\u001b[0m                 \u001b[1;31m# old-style linkers raise their own exceptions\u001b[0m\u001b[1;33m\u001b[0m\u001b[1;33m\u001b[0m\u001b[1;33m\u001b[0m\u001b[0m\n",
      "\u001b[1;32m~\\Anaconda3\\lib\\site-packages\\theano\\gof\\link.py\u001b[0m in \u001b[0;36mraise_with_op\u001b[1;34m(node, thunk, exc_info, storage_map)\u001b[0m\n\u001b[0;32m    323\u001b[0m         \u001b[1;31m# extra long error message in that case.\u001b[0m\u001b[1;33m\u001b[0m\u001b[1;33m\u001b[0m\u001b[1;33m\u001b[0m\u001b[0m\n\u001b[0;32m    324\u001b[0m         \u001b[1;32mpass\u001b[0m\u001b[1;33m\u001b[0m\u001b[1;33m\u001b[0m\u001b[0m\n\u001b[1;32m--> 325\u001b[1;33m     \u001b[0mreraise\u001b[0m\u001b[1;33m(\u001b[0m\u001b[0mexc_type\u001b[0m\u001b[1;33m,\u001b[0m \u001b[0mexc_value\u001b[0m\u001b[1;33m,\u001b[0m \u001b[0mexc_trace\u001b[0m\u001b[1;33m)\u001b[0m\u001b[1;33m\u001b[0m\u001b[1;33m\u001b[0m\u001b[0m\n\u001b[0m\u001b[0;32m    326\u001b[0m \u001b[1;33m\u001b[0m\u001b[0m\n\u001b[0;32m    327\u001b[0m \u001b[1;33m\u001b[0m\u001b[0m\n",
      "\u001b[1;32m~\\Anaconda3\\lib\\site-packages\\six.py\u001b[0m in \u001b[0;36mreraise\u001b[1;34m(tp, value, tb)\u001b[0m\n\u001b[0;32m    690\u001b[0m                 \u001b[0mvalue\u001b[0m \u001b[1;33m=\u001b[0m \u001b[0mtp\u001b[0m\u001b[1;33m(\u001b[0m\u001b[1;33m)\u001b[0m\u001b[1;33m\u001b[0m\u001b[1;33m\u001b[0m\u001b[0m\n\u001b[0;32m    691\u001b[0m             \u001b[1;32mif\u001b[0m \u001b[0mvalue\u001b[0m\u001b[1;33m.\u001b[0m\u001b[0m__traceback__\u001b[0m \u001b[1;32mis\u001b[0m \u001b[1;32mnot\u001b[0m \u001b[0mtb\u001b[0m\u001b[1;33m:\u001b[0m\u001b[1;33m\u001b[0m\u001b[1;33m\u001b[0m\u001b[0m\n\u001b[1;32m--> 692\u001b[1;33m                 \u001b[1;32mraise\u001b[0m \u001b[0mvalue\u001b[0m\u001b[1;33m.\u001b[0m\u001b[0mwith_traceback\u001b[0m\u001b[1;33m(\u001b[0m\u001b[0mtb\u001b[0m\u001b[1;33m)\u001b[0m\u001b[1;33m\u001b[0m\u001b[1;33m\u001b[0m\u001b[0m\n\u001b[0m\u001b[0;32m    693\u001b[0m             \u001b[1;32mraise\u001b[0m \u001b[0mvalue\u001b[0m\u001b[1;33m\u001b[0m\u001b[1;33m\u001b[0m\u001b[0m\n\u001b[0;32m    694\u001b[0m         \u001b[1;32mfinally\u001b[0m\u001b[1;33m:\u001b[0m\u001b[1;33m\u001b[0m\u001b[1;33m\u001b[0m\u001b[0m\n",
      "\u001b[1;32m~\\Anaconda3\\lib\\site-packages\\theano\\compile\\function_module.py\u001b[0m in \u001b[0;36m__call__\u001b[1;34m(self, *args, **kwargs)\u001b[0m\n\u001b[0;32m    901\u001b[0m         \u001b[1;32mtry\u001b[0m\u001b[1;33m:\u001b[0m\u001b[1;33m\u001b[0m\u001b[1;33m\u001b[0m\u001b[0m\n\u001b[0;32m    902\u001b[0m             \u001b[0moutputs\u001b[0m \u001b[1;33m=\u001b[0m\u001b[0;31m\\\u001b[0m\u001b[1;33m\u001b[0m\u001b[1;33m\u001b[0m\u001b[0m\n\u001b[1;32m--> 903\u001b[1;33m                 \u001b[0mself\u001b[0m\u001b[1;33m.\u001b[0m\u001b[0mfn\u001b[0m\u001b[1;33m(\u001b[0m\u001b[1;33m)\u001b[0m \u001b[1;32mif\u001b[0m \u001b[0moutput_subset\u001b[0m \u001b[1;32mis\u001b[0m \u001b[1;32mNone\u001b[0m \u001b[1;32melse\u001b[0m\u001b[0;31m\\\u001b[0m\u001b[1;33m\u001b[0m\u001b[1;33m\u001b[0m\u001b[0m\n\u001b[0m\u001b[0;32m    904\u001b[0m                 \u001b[0mself\u001b[0m\u001b[1;33m.\u001b[0m\u001b[0mfn\u001b[0m\u001b[1;33m(\u001b[0m\u001b[0moutput_subset\u001b[0m\u001b[1;33m=\u001b[0m\u001b[0moutput_subset\u001b[0m\u001b[1;33m)\u001b[0m\u001b[1;33m\u001b[0m\u001b[1;33m\u001b[0m\u001b[0m\n\u001b[0;32m    905\u001b[0m         \u001b[1;32mexcept\u001b[0m \u001b[0mException\u001b[0m\u001b[1;33m:\u001b[0m\u001b[1;33m\u001b[0m\u001b[1;33m\u001b[0m\u001b[0m\n",
      "\u001b[1;32m~\\Anaconda3\\lib\\site-packages\\theano\\gof\\op.py\u001b[0m in \u001b[0;36mrval\u001b[1;34m(p, i, o, n)\u001b[0m\n\u001b[0;32m    890\u001b[0m             \u001b[1;31m# default arguments are stored in the closure of `rval`\u001b[0m\u001b[1;33m\u001b[0m\u001b[1;33m\u001b[0m\u001b[1;33m\u001b[0m\u001b[0m\n\u001b[0;32m    891\u001b[0m             \u001b[1;32mdef\u001b[0m \u001b[0mrval\u001b[0m\u001b[1;33m(\u001b[0m\u001b[0mp\u001b[0m\u001b[1;33m=\u001b[0m\u001b[0mp\u001b[0m\u001b[1;33m,\u001b[0m \u001b[0mi\u001b[0m\u001b[1;33m=\u001b[0m\u001b[0mnode_input_storage\u001b[0m\u001b[1;33m,\u001b[0m \u001b[0mo\u001b[0m\u001b[1;33m=\u001b[0m\u001b[0mnode_output_storage\u001b[0m\u001b[1;33m,\u001b[0m \u001b[0mn\u001b[0m\u001b[1;33m=\u001b[0m\u001b[0mnode\u001b[0m\u001b[1;33m)\u001b[0m\u001b[1;33m:\u001b[0m\u001b[1;33m\u001b[0m\u001b[1;33m\u001b[0m\u001b[0m\n\u001b[1;32m--> 892\u001b[1;33m                 \u001b[0mr\u001b[0m \u001b[1;33m=\u001b[0m \u001b[0mp\u001b[0m\u001b[1;33m(\u001b[0m\u001b[0mn\u001b[0m\u001b[1;33m,\u001b[0m \u001b[1;33m[\u001b[0m\u001b[0mx\u001b[0m\u001b[1;33m[\u001b[0m\u001b[1;36m0\u001b[0m\u001b[1;33m]\u001b[0m \u001b[1;32mfor\u001b[0m \u001b[0mx\u001b[0m \u001b[1;32min\u001b[0m \u001b[0mi\u001b[0m\u001b[1;33m]\u001b[0m\u001b[1;33m,\u001b[0m \u001b[0mo\u001b[0m\u001b[1;33m)\u001b[0m\u001b[1;33m\u001b[0m\u001b[1;33m\u001b[0m\u001b[0m\n\u001b[0m\u001b[0;32m    893\u001b[0m                 \u001b[1;32mfor\u001b[0m \u001b[0mo\u001b[0m \u001b[1;32min\u001b[0m \u001b[0mnode\u001b[0m\u001b[1;33m.\u001b[0m\u001b[0moutputs\u001b[0m\u001b[1;33m:\u001b[0m\u001b[1;33m\u001b[0m\u001b[1;33m\u001b[0m\u001b[0m\n\u001b[0;32m    894\u001b[0m                     \u001b[0mcompute_map\u001b[0m\u001b[1;33m[\u001b[0m\u001b[0mo\u001b[0m\u001b[1;33m]\u001b[0m\u001b[1;33m[\u001b[0m\u001b[1;36m0\u001b[0m\u001b[1;33m]\u001b[0m \u001b[1;33m=\u001b[0m \u001b[1;32mTrue\u001b[0m\u001b[1;33m\u001b[0m\u001b[1;33m\u001b[0m\u001b[0m\n",
      "\u001b[1;32m~\\Anaconda3\\lib\\site-packages\\theano\\tensor\\basic.py\u001b[0m in \u001b[0;36mperform\u001b[1;34m(self, node, inp, out)\u001b[0m\n\u001b[0;32m   5968\u001b[0m         \u001b[1;31m# gives a numpy float object but we need to return a 0d\u001b[0m\u001b[1;33m\u001b[0m\u001b[1;33m\u001b[0m\u001b[1;33m\u001b[0m\u001b[0m\n\u001b[0;32m   5969\u001b[0m         \u001b[1;31m# ndarray\u001b[0m\u001b[1;33m\u001b[0m\u001b[1;33m\u001b[0m\u001b[1;33m\u001b[0m\u001b[0m\n\u001b[1;32m-> 5970\u001b[1;33m         \u001b[0mz\u001b[0m\u001b[1;33m[\u001b[0m\u001b[1;36m0\u001b[0m\u001b[1;33m]\u001b[0m \u001b[1;33m=\u001b[0m \u001b[0mnp\u001b[0m\u001b[1;33m.\u001b[0m\u001b[0masarray\u001b[0m\u001b[1;33m(\u001b[0m\u001b[0mnp\u001b[0m\u001b[1;33m.\u001b[0m\u001b[0mdot\u001b[0m\u001b[1;33m(\u001b[0m\u001b[0mx\u001b[0m\u001b[1;33m,\u001b[0m \u001b[0my\u001b[0m\u001b[1;33m)\u001b[0m\u001b[1;33m)\u001b[0m\u001b[1;33m\u001b[0m\u001b[1;33m\u001b[0m\u001b[0m\n\u001b[0m\u001b[0;32m   5971\u001b[0m \u001b[1;33m\u001b[0m\u001b[0m\n\u001b[0;32m   5972\u001b[0m     \u001b[1;32mdef\u001b[0m \u001b[0mgrad\u001b[0m\u001b[1;33m(\u001b[0m\u001b[0mself\u001b[0m\u001b[1;33m,\u001b[0m \u001b[0minp\u001b[0m\u001b[1;33m,\u001b[0m \u001b[0mgrads\u001b[0m\u001b[1;33m)\u001b[0m\u001b[1;33m:\u001b[0m\u001b[1;33m\u001b[0m\u001b[1;33m\u001b[0m\u001b[0m\n",
      "\u001b[1;31mValueError\u001b[0m: shapes (1236,7) and (5,26) not aligned: 7 (dim 1) != 5 (dim 0)\nApply node that caused the error: dot(x, W)\nToposort index: 13\nInputs types: [TensorType(float32, matrix), TensorType(float64, matrix)]\nInputs shapes: [(1236, 7), (5, 26)]\nInputs strides: [(28, 4), (208, 8)]\nInputs values: ['not shown', 'not shown']\nOutputs clients: [[Sum{axis=[0], acc_dtype=float64}(dot.0), Elemwise{sub,no_inplace}(dot.0, InplaceDimShuffle{x,0}.0), Elemwise{Sub}[(0, 0)](dot.0, mean)]]\n\nBacktrace when the node is created(use Theano flag traceback.limit=N to make it longer):\n  File \"<ipython-input-13-d947fa66cf27>\", line 21, in <module>\n    metrics = model.train(train_data, val_data, validation_frequency = 100, n_epochs = n_epochs, logger=logger, update_fn=update_fn)\n  File \"C:\\Users\\ASUS\\Anaconda3\\lib\\site-packages\\deepsurv\\deep_surv.py\", line 396, in train\n    update_fn = update_fn, **kwargs\n  File \"C:\\Users\\ASUS\\Anaconda3\\lib\\site-packages\\deepsurv\\deep_surv.py\", line 243, in _get_train_valid_fn\n    learning_rate=learning_rate, **kwargs\n  File \"C:\\Users\\ASUS\\Anaconda3\\lib\\site-packages\\deepsurv\\deep_surv.py\", line 192, in _get_loss_updates\n    + regularize_layer_params(self.network, l2) * L2_reg\n  File \"C:\\Users\\ASUS\\Anaconda3\\lib\\site-packages\\deepsurv\\deep_surv.py\", line 155, in _negative_log_likelihood\n    risk = self.risk(deterministic)\n  File \"C:\\Users\\ASUS\\Anaconda3\\lib\\site-packages\\deepsurv\\deep_surv.py\", line 541, in risk\n    deterministic = deterministic)\n  File \"C:\\Users\\ASUS\\Anaconda3\\lib\\site-packages\\lasagne\\layers\\helper.py\", line 197, in get_output\n    all_outputs[layer] = layer.get_output_for(layer_inputs, **kwargs)\n  File \"C:\\Users\\ASUS\\Anaconda3\\lib\\site-packages\\lasagne\\layers\\dense.py\", line 121, in get_output_for\n    activation = T.dot(input, self.W)\n\nHINT: Use the Theano flag 'exception_verbosity=high' for a debugprint and storage map footprint of this apply node."
     ]
    }
   ],
   "source": [
    "# Create an instance of DeepSurv using the hyperparams defined above\n",
    "model = deep_surv.DeepSurv(**hyperparams)\n",
    "\n",
    "# DeepSurv can now leverage TensorBoard to monitor training and validation\n",
    "# This section of code is optional. If you don't want to use the tensorboard logger\n",
    "# Uncomment the below line, and comment out the other three lines: \n",
    "# logger = None\n",
    "\n",
    "experiment_name = 'test_experiment_sebastian'\n",
    "logdir = './logs/tensorboard/'\n",
    "logger = TensorboardLogger(experiment_name, logdir=logdir)\n",
    "\n",
    "# Now we train the model\n",
    "update_fn=lasagne.updates.adam # The type of optimizer to use. \\\n",
    "                                            # Check out http://lasagne.readthedocs.io/en/latest/modules/updates.html \\\n",
    "                                            # for other optimizers to use\n",
    "        \n",
    "n_epochs = 1200\n",
    "\n",
    "# If you have validation data, you can add it as the second parameter to the function\n",
    "metrics = model.train(train_data, val_data, validation_frequency = 100, n_epochs = n_epochs, logger=logger, update_fn=update_fn)"
   ]
  },
  {
   "cell_type": "markdown",
   "metadata": {},
   "source": [
    "    \"L2_reg\": 2.8032470703125, \n",
    "    \"dropout\": 0.0899951171875, \n",
    "    \"learning_rate\": 0.023825980458515722, \n",
    "    \"lr_decay\": 0.0005817382812499998, \n",
    "    \"momentum\": 0.8383100585937501, \n",
    "        \n",
    "    \"learning_rate\": [-7,-3],\n",
    "    \"lr_decay\": [0.0, 0.001],\n",
    "    \"momentum\": [0.8, 0.95],\n",
    "    \"L2_reg\": [0.05, 5.0],\n",
    "    \"dropout\": [0.0, 0.5]"
   ]
  },
  {
   "cell_type": "code",
   "execution_count": 109,
   "metadata": {},
   "outputs": [
    {
     "name": "stdout",
     "output_type": "stream",
     "text": [
      "Train C-Index: (1199, 0.9213210328003321)\n",
      "Validation C-index :  (1100, 0.8257427950275935)\n"
     ]
    },
    {
     "data": {
      "image/png": "[encoded data removed]",
      "text/plain": [
       "<Figure size 432x288 with 2 Axes>"
      ]
     },
     "metadata": {
      "needs_background": "light"
     },
     "output_type": "display_data"
    },
    {
     "data": {
      "image/png": "[encoded data removed]",
      "text/plain": [
       "<Figure size 432x288 with 1 Axes>"
      ]
     },
     "metadata": {
      "needs_background": "light"
     },
     "output_type": "display_data"
    }
   ],
   "source": [
    "# Print the final metrics\n",
    "print('Train C-Index:', metrics['c-index'][-1])\n",
    "print('Validation C-index : ', metrics['valid_c-index'][-1])\n",
    "\n",
    "# Plot the training / validation curves\n",
    "viz.plot_log(metrics)"
   ]
  },
  {
   "cell_type": "code",
   "execution_count": 81,
   "metadata": {},
   "outputs": [
    {
     "name": "stdout",
     "output_type": "stream",
     "text": [
      "e\n",
      "t\n",
      "x\n"
     ]
    },
    {
     "name": "stderr",
     "output_type": "stream",
     "text": [
      "C:\\Users\\ASUS\\Anaconda3\\lib\\site-packages\\h5py\\_hl\\dataset.py:313: H5pyDeprecationWarning: dataset.value has been deprecated. Use dataset[()] instead.\n",
      "  \"Use dataset[()] instead.\", H5pyDeprecationWarning)\n"
     ]
    }
   ],
   "source": [
    "#test 데이터 불러오기\n",
    "filename = 'C:/Users/ASUS/Dropbox/석사학위논문/DeepSurv-master/data/whas_train_test.h5'\n",
    "f = h5py.File(filename, 'r')\n",
    "\n",
    "#Get the HDF5 group\n",
    "group = f['test']\n",
    "\n",
    "#Checkout what keys are inside that group.\n",
    "for key in group.keys():\n",
    "    print(key)\n",
    "\n",
    "test_x = group['x'].value\n",
    "test_t = group['t'].value\n",
    "test_e = group['e'].value\n",
    "\n",
    "#Do whatever you want with data\n",
    "\n",
    "#After you are done\n",
    "f.close()\n",
    "\n",
    "test_df = pd.DataFrame(data_x)\n",
    "test_df['Time'] = np.int32(data_t)\n",
    "test_df['Event'] = data_e\n",
    "\n",
    "#test_df = test_df.drop(0, axis = 1)\n",
    "\n",
    "test_data = dataframe_to_deepsurv_ds(test_df, event_col = 'Event', time_col= 'Time')"
   ]
  },
  {
   "cell_type": "code",
   "execution_count": 8,
   "metadata": {},
   "outputs": [],
   "source": [
    "import argparse\n",
    "from collections import defaultdict\n",
    "import uuid\n",
    "import copy\n",
    "import json\n",
    "import time\n",
    "import pylab\n",
    "from lifelines import KaplanMeierFitter\n",
    "from lifelines.statistics import logrank_test\n",
    "localtime   = time.localtime()\n",
    "TIMESTRING  = time.strftime(\"%m%d%Y%M\", localtime)\n",
    "\n",
    "def evaluate_model(model, dataset, bootstrap = False):\n",
    "\n",
    "    metrics = {}\n",
    "\n",
    "    # Calculate c_index\n",
    "    metrics['c_index'] = model.get_concordance_index(**dataset)\n",
    "    if bootstrap:\n",
    "        metrics['c_index_bootstrap'] = utils.bootstrap_metric(model.get_concordance_index, dataset)\n",
    "    \n",
    "\n",
    "    return metrics\n",
    "\n",
    "def plot_survival_curves(rec_t, rec_e, antirec_t, antirec_e, experiment_name = '', output_file = None):\n",
    "    # Set-up plots\n",
    "    plt.figure(figsize=(12,3))\n",
    "    ax = plt.subplot(111)\n",
    "\n",
    "    # Fit survival curves\n",
    "    kmf = KaplanMeierFitter()\n",
    "    kmf.fit(rec_t, event_observed=rec_e, label=' '.join([experiment_name, \"Treatment\"]))   \n",
    "    kmf.plot(ax=ax,linestyle=\"-\")\n",
    "    kmf.fit(antirec_t, event_observed=antirec_e, label=' '.join([experiment_name, \"Non-treatment\"]))\n",
    "    kmf.plot(ax=ax,linestyle=\"--\")\n",
    "    \n",
    "    # Format graph\n",
    "    plt.ylim(0,1);\n",
    "    ax.set_xlabel('Timeline (months)',fontsize='large')\n",
    "    ax.set_ylabel('Percentage of Population Alive',fontsize='large')\n",
    "    \n",
    "    # Calculate p-value\n",
    "    results = logrank_test(rec_t, antirec_t, rec_e, antirec_e, alpha=.95)\n",
    "    results.print_summary()\n",
    "\n",
    "    # Location the label at the 1st out of 9 tick marks\n",
    "    xloc = max(np.max(rec_t),np.max(antirec_t)) / 9\n",
    "    plt.legend(loc='best',prop={'size':15})\n",
    "    print('p-value : ',results.p_value)\n",
    "\n",
    "\n",
    "    if output_file:\n",
    "        plt.tight_layout()\n",
    "        pylab.savefig(output_file)\n",
    "        \n",
    "        \n",
    "\n",
    "def save_treatment_rec_visualizations(model, dataset, output_dir, \n",
    "    trt_i = 1, trt_j = 0, trt_idx = 0):\n",
    "    \n",
    "    trt_values = np.unique(dataset['x'][:,trt_idx])\n",
    "    print(\"Recommending treatments:\", trt_values)\n",
    "    rec_trt = model.recommend_treatment(dataset['x'], trt_i, trt_j, trt_idx)\n",
    "    rec_trt = np.squeeze((rec_trt < 0).astype(np.int32))\n",
    "\n",
    "    rec_dict = utils.calculate_recs_and_antirecs(rec_trt, true_trt = trt_idx, dataset = dataset)\n",
    "    \n",
    "    output_file = output_dir + 'trt_plot.pdf'\n",
    "    print(output_file)\n",
    "    plot_survival_curves(experiment_name = '', output_file=output_file, **rec_dict)"
   ]
  },
  {
   "cell_type": "markdown",
   "metadata": {},
   "source": [
    "# WHAS"
   ]
  },
  {
   "cell_type": "code",
   "execution_count": 3,
   "metadata": {},
   "outputs": [
    {
     "name": "stdout",
     "output_type": "stream",
     "text": [
      "Training metrics: {'c_index': 0.9129667670136854}\n",
      "Test metrics: {'c_index': 0.8655161953554215, 'c_index_bootstrap': {'mean': 0.8679675000477424, 'confidence_interval': (0.8649107638030836, 0.8710242362924011)}}\n"
     ]
    }
   ],
   "source": [
    "hyperparams = {\n",
    "\"learning_rate\": 0.023094096518941305, \n",
    " \"dropout\": 0.017243652343750002, \n",
    " \"lr_decay\": 0.0009819482421875, \n",
    " \"momentum\": 0.926554443359375, \n",
    " \"L2_reg\": 2.364680908203125, \n",
    " \"batch_norm\": True, \n",
    " \"standardize\": True, \n",
    " \"n_in\": 6, \n",
    " \"hidden_layers_sizes\": [26, 26, 26],\n",
    " \"activation\": \"selu\"}\n",
    "\n",
    "\n",
    "\n",
    "\n",
    "if __name__ == '__main__':\n",
    "\n",
    "    # Load Dataset\n",
    "    datasets = utils.load_datasets('C:/Users/ASUS/Dropbox/석사학위논문/DeepSurv-master/data/whas_train_test.h5')\n",
    "    norm_vals = {\n",
    "            'mean' : datasets['train']['x'].mean(axis =0),\n",
    "            'std'  : datasets['train']['x'].std(axis=0)\n",
    "        }\n",
    "\n",
    "    # Train Model\n",
    "    \n",
    "    model = deep_surv.DeepSurv(**hyperparams)\n",
    "    if 'valid' in datasets:\n",
    "        valid_data = datasets['valid']\n",
    "    else:\n",
    "        valid_data = None\n",
    "        metrics = model.train(datasets['train'], valid_data, n_epochs = 1200,\n",
    "        update_fn = utils.get_optimizer_from_str('adam'),\n",
    "        validation_frequency = 100)\n",
    "\n",
    "    # Evaluate Model\n",
    "\n",
    "    train_data = datasets['train']\n",
    "    if hyperparams['standardize']:\n",
    "        train_data = utils.standardize_dataset(train_data, norm_vals['mean'], norm_vals['std'])\n",
    "\n",
    "    metrics = evaluate_model(model, train_data)\n",
    "    print(\"Training metrics: \" + str(metrics))\n",
    "    if 'valid' in datasets:\n",
    "        valid_data = datasets['valid']\n",
    "        if hyperparams['standardize']:\n",
    "            valid_data = utils.standardize_dataset(valid_data, norm_vals['mean'], norm_vals['std'])\n",
    "            metrics = evaluate_model(model, valid_data)\n",
    "        print(\"Valid metrics: \" + str(metrics))\n",
    "\n",
    "    if 'test' in datasets:\n",
    "        test_dataset = utils.standardize_dataset(datasets['test'], norm_vals['mean'], norm_vals['std'])\n",
    "        metrics = evaluate_model(model, test_dataset, bootstrap=True)\n",
    "        print(\"Test metrics: \" + str(metrics))"
   ]
  },
  {
   "cell_type": "markdown",
   "metadata": {},
   "source": [
    "# GBSG"
   ]
  },
  {
   "cell_type": "code",
   "execution_count": 11,
   "metadata": {},
   "outputs": [
    {
     "name": "stdout",
     "output_type": "stream",
     "text": [
      "Training metrics: {'c_index': 0.6764899993865261}\n",
      "Test metrics: {'c_index': 0.6761753035950463, 'c_index_bootstrap': {'mean': 0.6735837821763883, 'confidence_interval': (0.6705999460744236, 0.6765676182783529)}}\n"
     ]
    }
   ],
   "source": [
    "hyperparams ={\"learning_rate\": 0.0004991066534650134, \n",
    "              \"dropout\": 0.0783935546875, \n",
    "              \"lr_decay\": 0.000746533203125, \n",
    "              \"momentum\": 0.8255483398437501, \n",
    "              \"L2_reg\": 1.5917993164062498, \n",
    "              \"batch_norm\": False, \n",
    "              \"standardize\": True, \n",
    "              \"n_in\": 7, \n",
    "              \"hidden_layers_sizes\": [20, 20, 20], \n",
    "              \"activation\": \"selu\"}\n",
    "\n",
    "\n",
    "\n",
    "if __name__ == '__main__':\n",
    "\n",
    "    # Load Dataset\n",
    "    datasets = utils.load_datasets('C:/Users/ASUS/Dropbox/석사학위논문/DeepSurv-master/data/gbsg_cancer_train_test.h5')\n",
    "    norm_vals = {\n",
    "            'mean' : datasets['train']['x'].mean(axis =0),\n",
    "            'std'  : datasets['train']['x'].std(axis=0)\n",
    "        }\n",
    "\n",
    "    # Train Model\n",
    "    \n",
    "    model = deep_surv.DeepSurv(**hyperparams)\n",
    "    if 'valid' in datasets:\n",
    "        valid_data = datasets['valid']\n",
    "    else:\n",
    "        valid_data = None\n",
    "        metrics = model.train(datasets['train'], valid_data, n_epochs = 1200,\n",
    "        update_fn = utils.get_optimizer_from_str('adam'),\n",
    "        validation_frequency = 100)\n",
    "\n",
    "    # Evaluate Model\n",
    "\n",
    "    train_data = datasets['train']\n",
    "    if hyperparams['standardize']:\n",
    "        train_data = utils.standardize_dataset(train_data, norm_vals['mean'], norm_vals['std'])\n",
    "\n",
    "    metrics = evaluate_model(model, train_data)\n",
    "    print(\"Training metrics: \" + str(metrics))\n",
    "    if 'valid' in datasets:\n",
    "        valid_data = datasets['valid']\n",
    "        if hyperparams['standardize']:\n",
    "            valid_data = utils.standardize_dataset(valid_data, norm_vals['mean'], norm_vals['std'])\n",
    "            metrics = evaluate_model(model, valid_data)\n",
    "        print(\"Valid metrics: \" + str(metrics))\n",
    "\n",
    "    if 'test' in datasets:\n",
    "        test_dataset = utils.standardize_dataset(datasets['test'], norm_vals['mean'], norm_vals['std'])\n",
    "        metrics = evaluate_model(model, test_dataset, bootstrap=True)\n",
    "        print(\"Test metrics: \" + str(metrics))"
   ]
  },
  {
   "cell_type": "code",
   "execution_count": 4,
   "metadata": {},
   "outputs": [
    {
     "name": "stdout",
     "output_type": "stream",
     "text": [
      "Training metrics: {'c_index': 0.6786658526594092}\n",
      "Test metrics: {'c_index': 0.6751082120957076, 'c_index_bootstrap': {'mean': 0.67574793421211, 'confidence_interval': (0.6725867200762682, 0.6789091483479518)}}\n"
     ]
    }
   ],
   "source": [
    "hyperparams ={\"learning_rate\": 0.0004991066534650134, \n",
    "              \"dropout\": 0.0783935546875, \n",
    "              \"lr_decay\": 0.000746533203125, \n",
    "              \"momentum\": 0.8255483398437501, \n",
    "              \"L2_reg\": 1.5917993164062498, \n",
    "              \"batch_norm\": False, \n",
    "              \"standardize\": True, \n",
    "              \"n_in\": 7, \n",
    "              \"hidden_layers_sizes\": [20, 20, 20], \n",
    "              \"activation\": \"selu\"}\n",
    "\n",
    "\n",
    "\n",
    "if __name__ == '__main__':\n",
    "\n",
    "    # Load Dataset\n",
    "    datasets = utils.load_datasets('C:/Users/ASUS/Dropbox/석사학위논문/DeepSurv-master/data/gbsg_cancer_train_test.h5')\n",
    "    norm_vals = {\n",
    "            'mean' : datasets['train']['x'].mean(axis =0),\n",
    "            'std'  : datasets['train']['x'].std(axis=0)\n",
    "        }\n",
    "\n",
    "    # Train Model\n",
    "    \n",
    "    model = deep_surv.DeepSurv(**hyperparams)\n",
    "    if 'valid' in datasets:\n",
    "        valid_data = datasets['valid']\n",
    "    else:\n",
    "        valid_data = None\n",
    "        metrics = model.train(datasets['train'], valid_data, n_epochs = 1200,\n",
    "        update_fn = utils.get_optimizer_from_str('adam'),\n",
    "        validation_frequency = 100)\n",
    "\n",
    "    # Evaluate Model\n",
    "\n",
    "    train_data = datasets['train']\n",
    "    if hyperparams['standardize']:\n",
    "        train_data = utils.standardize_dataset(train_data, norm_vals['mean'], norm_vals['std'])\n",
    "\n",
    "    metrics = evaluate_model(model, train_data)\n",
    "    print(\"Training metrics: \" + str(metrics))\n",
    "    if 'valid' in datasets:\n",
    "        valid_data = datasets['valid']\n",
    "        if hyperparams['standardize']:\n",
    "            valid_data = utils.standardize_dataset(valid_data, norm_vals['mean'], norm_vals['std'])\n",
    "            metrics = evaluate_model(model, valid_data)\n",
    "        print(\"Valid metrics: \" + str(metrics))\n",
    "\n",
    "    if 'test' in datasets:\n",
    "        test_dataset = utils.standardize_dataset(datasets['test'], norm_vals['mean'], norm_vals['std'])\n",
    "        metrics = evaluate_model(model, test_dataset, bootstrap=True)\n",
    "        print(\"Test metrics: \" + str(metrics))"
   ]
  },
  {
   "cell_type": "code",
   "execution_count": 11,
   "metadata": {},
   "outputs": [
    {
     "name": "stdout",
     "output_type": "stream",
     "text": [
      "Calculating treatment recommendation survival curvs\n",
      "Recommending treatments: [-0.5299654  1.886927 ]\n",
      "Printing treatment recommendation metrics\n",
      "Recommendation metrics: {'rec_median': 40.098564, 'antirec_median': 31.770021}\n",
      "C:/Users/ASUS/Dropbox/석사학위논문/model_pathtrt_plot.pdf\n",
      "<lifelines.StatisticalResult>\n",
      "               t_0 = -1\n",
      " null_distribution = chi squared\n",
      "degrees_of_freedom = 1\n",
      "             alpha = 0.95\n",
      "\n",
      "---\n",
      " test_statistic      p  -log2(p)\n",
      "           8.56 <0.005      8.19\n",
      "p-value :  0.0034272822647458657\n"
     ]
    },
    {
     "data": {
      "image/png": "[encoded data removed]",
      "text/plain": [
       "<Figure size 864x216 with 1 Axes>"
      ]
     },
     "metadata": {
      "needs_background": "light"
     },
     "output_type": "display_data"
    }
   ],
   "source": [
    "#trt recommandation\n",
    "treatment_idx = 0\n",
    "results_dir = 'C:/Users/ASUS/Dropbox/석사학위논문/model_path'\n",
    "\n",
    "if __name__ == '__main__':\n",
    "\n",
    "    # Load Dataset\n",
    "    datasets = utils.load_datasets('C:/Users/ASUS/Dropbox/석사학위논문/DeepSurv-master/data/gbsg_cancer_train_test.h5')\n",
    "    norm_vals = {\n",
    "            'mean' : datasets['train']['x'].mean(axis =0),\n",
    "            'std'  : datasets['train']['x'].std(axis=0)\n",
    "        }\n",
    "    \n",
    "    if 'test' in datasets and treatment_idx is not None:\n",
    "        print(\"Calculating treatment recommendation survival curvs\")\n",
    "        # We use the test dataset because these experiments don't have a viz dataset\n",
    "        save_treatment_rec_visualizations(model, test_dataset, output_dir=results_dir, \n",
    "            trt_idx = treatment_idx)"
   ]
  },
  {
   "cell_type": "markdown",
   "metadata": {},
   "source": [
    "# SUPPORT"
   ]
  },
  {
   "cell_type": "code",
   "execution_count": 12,
   "metadata": {},
   "outputs": [
    {
     "name": "stdout",
     "output_type": "stream",
     "text": [
      "Training metrics: {'c_index': 0.6600248896950646}\n",
      "Test metrics: {'c_index': 0.616673579488198, 'c_index_bootstrap': {'mean': 0.6180321750460265, 'confidence_interval': (0.6162545741943971, 0.6198097758976558)}}\n"
     ]
    }
   ],
   "source": [
    "hyperparams = {\"learning_rate\": 0.03279227024343838, \n",
    "               \"dropout\": 0.1982763671875, \n",
    "               \"lr_decay\": 0.000645986328125, \n",
    "               \"momentum\": 0.9450444335937499, \n",
    "               \"L2_reg\": 3.54434228515625, \n",
    "               \"batch_norm\": False, \n",
    "               \"standardize\": True, \n",
    "               \"n_in\": 14, \n",
    "               \"hidden_layers_sizes\": [33, 33, 33], \n",
    "               \"activation\": \"selu\"}\n",
    "\n",
    "\n",
    "if __name__ == '__main__':\n",
    "\n",
    "    # Load Dataset\n",
    "    datasets = utils.load_datasets('C:/Users/ASUS/Dropbox/석사학위논문/DeepSurv-master/data/support_train_test.h5')\n",
    "    norm_vals = {\n",
    "            'mean' : datasets['train']['x'].mean(axis =0),\n",
    "            'std'  : datasets['train']['x'].std(axis=0)\n",
    "        }\n",
    "\n",
    "    # Train Model\n",
    "    \n",
    "    model = deep_surv.DeepSurv(**hyperparams)\n",
    "    if 'valid' in datasets:\n",
    "        valid_data = datasets['valid']\n",
    "    else:\n",
    "        valid_data = None\n",
    "        metrics = model.train(datasets['train'], valid_data, n_epochs = 1200,\n",
    "        update_fn = utils.get_optimizer_from_str('adam'),\n",
    "        validation_frequency = 100)\n",
    "\n",
    "    # Evaluate Model\n",
    "\n",
    "    train_data = datasets['train']\n",
    "    if hyperparams['standardize']:\n",
    "        train_data = utils.standardize_dataset(train_data, norm_vals['mean'], norm_vals['std'])\n",
    "\n",
    "    metrics = evaluate_model(model, train_data)\n",
    "    print(\"Training metrics: \" + str(metrics))\n",
    "    if 'valid' in datasets:\n",
    "        valid_data = datasets['valid']\n",
    "        if hyperparams['standardize']:\n",
    "            valid_data = utils.standardize_dataset(valid_data, norm_vals['mean'], norm_vals['std'])\n",
    "            metrics = evaluate_model(model, valid_data)\n",
    "        print(\"Valid metrics: \" + str(metrics))\n",
    "\n",
    "    if 'test' in datasets:\n",
    "        test_dataset = utils.standardize_dataset(datasets['test'], norm_vals['mean'], norm_vals['std'])\n",
    "        metrics = evaluate_model(model, test_dataset, bootstrap=True)\n",
    "        print(\"Test metrics: \" + str(metrics))"
   ]
  },
  {
   "cell_type": "markdown",
   "metadata": {},
   "source": [
    "# METABRIC"
   ]
  },
  {
   "cell_type": "code",
   "execution_count": 10,
   "metadata": {},
   "outputs": [
    {
     "name": "stdout",
     "output_type": "stream",
     "text": [
      "Training metrics: {'c_index': 0.7143060294032179}\n",
      "Test metrics: {'c_index': 0.6351767943227195, 'c_index_bootstrap': {'mean': 0.6312746107538216, 'confidence_interval': (0.6275111783629457, 0.6350380431446976)}}\n"
     ]
    }
   ],
   "source": [
    "hyperparams ={\"learning_rate\": 0.0020065103592061526, \n",
    "              \"dropout\": 0.034404296875000004, \n",
    "              \"lr_decay\": 0.00055220703125, \n",
    "              \"momentum\": 0.8109013671875, \n",
    "              \"L2_reg\": 4.6593974609375,\n",
    "              \"batch_norm\": False, \n",
    "              \"standardize\": True, \n",
    "              \"n_in\": 9, \n",
    "              \"hidden_layers_sizes\": [42, 42, 42], \n",
    "              \"activation\": \"selu\"}\n",
    "\n",
    "if __name__ == '__main__':\n",
    "\n",
    "    # Load Dataset\n",
    "    datasets = utils.load_datasets('C:/Users/ASUS/Dropbox/석사학위논문/DeepSurv-master/data/metabric_IHC4_clinical_train_test.h5')\n",
    "    norm_vals = {\n",
    "            'mean' : datasets['train']['x'].mean(axis =0),\n",
    "            'std'  : datasets['train']['x'].std(axis=0)\n",
    "        }\n",
    "\n",
    "    # Train Model\n",
    "    \n",
    "    model = deep_surv.DeepSurv(**hyperparams)\n",
    "    if 'valid' in datasets:\n",
    "        valid_data = datasets['valid']\n",
    "    else:\n",
    "        valid_data = None\n",
    "        metrics = model.train(datasets['train'], valid_data, n_epochs = 1200,\n",
    "        update_fn = utils.get_optimizer_from_str('adam'),\n",
    "        validation_frequency = 100)\n",
    "\n",
    "    # Evaluate Model\n",
    "\n",
    "    train_data = datasets['train']\n",
    "    if hyperparams['standardize']:\n",
    "        train_data = utils.standardize_dataset(train_data, norm_vals['mean'], norm_vals['std'])\n",
    "\n",
    "    metrics = evaluate_model(model, train_data)\n",
    "    print(\"Training metrics: \" + str(metrics))\n",
    "    if 'valid' in datasets:\n",
    "        valid_data = datasets['valid']\n",
    "        if hyperparams['standardize']:\n",
    "            valid_data = utils.standardize_dataset(valid_data, norm_vals['mean'], norm_vals['std'])\n",
    "            metrics = evaluate_model(model, valid_data)\n",
    "        print(\"Valid metrics: \" + str(metrics))\n",
    "\n",
    "    if 'test' in datasets:\n",
    "        test_dataset = utils.standardize_dataset(datasets['test'], norm_vals['mean'], norm_vals['std'])\n",
    "        metrics = evaluate_model(model, test_dataset, bootstrap=True)\n",
    "        print(\"Test metrics: \" + str(metrics))"
   ]
  },
  {
   "cell_type": "markdown",
   "metadata": {},
   "source": [
    "# NWTOCO"
   ]
  },
  {
   "cell_type": "code",
   "execution_count": 74,
   "metadata": {},
   "outputs": [
    {
     "name": "stdout",
     "output_type": "stream",
     "text": [
      "total_number :  4028\n",
      "feature_number :  8\n",
      "censored_number :  3457\n",
      "censored_rate :  85.82423038728898\n"
     ]
    }
   ],
   "source": [
    "#nwtco 데이터 불러오기\n",
    "nwtco = pd.read_csv('C:/Users/ASUS/Dropbox/석사학위논문/DeepSurv-master/data/nwtco.csv')\n",
    "train_df = nwtco.drop('seqno', axis = 1)\n",
    "train_df = train_df.rename(columns = {'rel':'Event', 'edrel':'Time'})\n",
    "\n",
    "#censored number\n",
    "c_number = train_df['Event'].value_counts()[0]\n",
    "feat_num = len(list(train_df.columns))\n",
    "total_number = len(train_df['Event'])\n",
    "c_rate = (c_number / total_number) * 100\n",
    "\n",
    "print(\"total_number : \", total_number)\n",
    "print(\"feature_number : \", feat_num)\n",
    "print(\"censored_number : \", c_number)\n",
    "print(\"censored_rate : \" , c_rate)\n",
    "\n",
    "#data split\n",
    "train_df, test_df = train_test_split(train_df, test_size = 0.2)\n",
    "train_df, val_df = train_test_split(train_df, test_size = 0.2)\n",
    "\n",
    "# event_col is the header in the df that represents the 'Event / Status' indicator\n",
    "# time_col is the header in the df that represents the event time\n",
    "def dataframe_to_deepsurv_ds(df, event_col = 'Event', time_col = 'Time'):\n",
    "    # Extract the event and time columns as numpy arrays\n",
    "    e = df[event_col].values.astype(np.int32)\n",
    "    t = df[time_col].values.astype(np.float32)\n",
    "\n",
    "    # Extract the patient's covariates as a numpy array\n",
    "    x_df = df.drop([event_col, time_col], axis = 1)\n",
    "    x = x_df.values.astype(np.float32)\n",
    "    \n",
    "    # Return the deep surv dataframe\n",
    "    return {\n",
    "        'x' : x,\n",
    "        'e' : e,\n",
    "        't' : t\n",
    "    }\n",
    "\n",
    "# If the headers of the csv change, you can replace the values of \n",
    "# 'event_col' and 'time_col' with the names of the new headers\n",
    "# You can also use this function on your training dataset, validation dataset, and testing dataset\n",
    "train_data = dataframe_to_deepsurv_ds(train_df, event_col = 'Event', time_col= 'Time')\n",
    "val_data = dataframe_to_deepsurv_ds(val_df, event_col = 'Event', time_col = 'Time')\n",
    "test_data = dataframe_to_deepsurv_ds(test_df, event_col = 'Event', time_col = 'Time')"
   ]
  },
  {
   "cell_type": "code",
   "execution_count": 57,
   "metadata": {},
   "outputs": [],
   "source": [
    "#Hyperparameter tunning\n",
    "def get_optimizer_from_str(update_fn):\n",
    "    if update_fn == 'sgd':\n",
    "        return lasagne.updates.sgd\n",
    "    elif update_fn == 'adam':\n",
    "        return lasagne.updates.adam\n",
    "    elif update_fn == 'rmsprop':\n",
    "        return lasagne.updates.rmsprop\n",
    "\n",
    "    return None\n",
    "\n",
    "def get_objective_function(num_epochs):\n",
    "\n",
    "    def format_to_deepsurv(x, y):\n",
    "        return {\n",
    "            'x': x,\n",
    "            'e': y[:,0].astype(np.int32),\n",
    "            't': y[:,1].astype(np.float32)\n",
    "        }\n",
    "\n",
    "    def get_hyperparams(params):\n",
    "        hyperparams = {\n",
    "            'batch_norm': False,\n",
    "            'activation': 'selu',\n",
    "            'standardize': True\n",
    "        }\n",
    "        # @TODO add default parameters and only take necessary args from params\n",
    "        # protect from params including some other key\n",
    "\n",
    "        if 'num_layers' in params and 'num_nodes' in params:\n",
    "            params['hidden_layers_sizes'] = [int(params['num_nodes'])] * int(params['num_layers'])\n",
    "            del params['num_layers']\n",
    "            del params['num_nodes']\n",
    "\n",
    "\n",
    "        hyperparams.update(params)\n",
    "        return hyperparams\n",
    "\n",
    "    def train_deepsurv(x_train, y_train, x_test, y_test,\n",
    "        **kwargs):\n",
    "        # Standardize the datasets\n",
    "        train_mean = x_train.mean(axis = 0)\n",
    "        train_std = x_train.std(axis = 0)\n",
    "\n",
    "        x_train = (x_train - train_mean) / train_std\n",
    "        x_test = (x_test - train_mean) / train_std\n",
    "\n",
    "        train_data = format_to_deepsurv(x_train, y_train)\n",
    "        valid_data = format_to_deepsurv(x_test, y_test)\n",
    "\n",
    "        hyperparams = get_hyperparams(kwargs)\n",
    "\n",
    "        network = deep_surv.DeepSurv(n_in=x_train.shape[1], **hyperparams)\n",
    "        metrics = network.train(train_data, n_epochs = num_epochs,\n",
    "            update_fn = lasagne.updates.nesterov_momentum, verbose = False)\n",
    "\n",
    "        result = network.get_concordance_index(**valid_data)\n",
    "        return result\n",
    "\n",
    "    return train_deepsurv\n",
    "\n",
    "\n",
    "\n",
    "if __name__ == '__main__':\n",
    "\n",
    "    NUM_EPOCHS = 500\n",
    "    NUM_FOLDS = 3\n",
    "\n",
    "    x = train_data['x']\n",
    "    e = train_data['e']\n",
    "    \n",
    "    t = train_data['t']\n",
    "    y = np.column_stack((e, t))\n",
    "    \n",
    "    \n",
    "\n",
    "    opt_fxn = get_objective_function(NUM_EPOCHS)\n",
    "    opt_fxn = optunity.cross_validated(x=x, y=y, num_folds=NUM_FOLDS,\n",
    "        strata=False)(opt_fxn)\n",
    "\n",
    "    opt_params, _, _ = optunity.maximize(opt_fxn, num_evals=200,\n",
    "        learning_rate =[0.000001,0.001], \n",
    "        lr_decay = [0.0001, 0.001], \n",
    "        momentum = [0.8, 0.95],\n",
    "        L2_reg = [2.0, 7.0], \n",
    "        dropout = [0.01, 0.7],\n",
    "        num_layers = [1,3],\n",
    "        num_nodes = [20,45])"
   ]
  },
  {
   "cell_type": "code",
   "execution_count": 58,
   "metadata": {},
   "outputs": [
    {
     "data": {
      "text/plain": [
       "{'learning_rate': 0.0005151337890625001,\n",
       " 'lr_decay': 0.00062470703125,\n",
       " 'momentum': 0.812744140625,\n",
       " 'L2_reg': 3.7138671875,\n",
       " 'dropout': 0.059189453125,\n",
       " 'num_layers': 2.212890625,\n",
       " 'num_nodes': 26.3232421875}"
      ]
     },
     "execution_count": 58,
     "metadata": {},
     "output_type": "execute_result"
    }
   ],
   "source": [
    "opt_params"
   ]
  },
  {
   "cell_type": "code",
   "execution_count": 5,
   "metadata": {},
   "outputs": [
    {
     "data": {
      "text/plain": [
       "{'learning_rate': -4.076415054095613,\n",
       " 'lr_decay': 0.0006685098858101879,\n",
       " 'momentum': 0.8819902343749998,\n",
       " 'L2_reg': 4.7448492866103535,\n",
       " 'dropout': 0.4537046180190415}"
      ]
     },
     "execution_count": 5,
     "metadata": {},
     "output_type": "execute_result"
    }
   ],
   "source": [
    "opt_params"
   ]
  },
  {
   "cell_type": "code",
   "execution_count": 78,
   "metadata": {},
   "outputs": [
    {
     "name": "stdout",
     "output_type": "stream",
     "text": [
      "Training metrics: {'c_index': 0.7048686919094255}\n",
      "Test metrics: {'c_index': 0.7423415789290398, 'c_index_bootstrap': {'mean': 0.7419811133701564, 'confidence_interval': (0.737154837909221, 0.7468073888310918)}}\n"
     ]
    }
   ],
   "source": [
    "hyperparams ={\"learning_rate\": 0.0005151337890625001, \n",
    "              \"dropout\": 0.059189453125, \n",
    "              \"lr_decay\": 0.00062470703125, \n",
    "              \"momentum\": 0.812744140625, \n",
    "              \"L2_reg\": 3.7138671875,\n",
    "              \"batch_norm\": False, \n",
    "              \"standardize\": True, \n",
    "              \"n_in\": 6, \n",
    "              \"hidden_layers_sizes\": [26,26], \n",
    "              \"activation\": \"selu\"}\n",
    "\n",
    "if __name__ == '__main__':\n",
    "\n",
    "    # Load Dataset\n",
    "    norm_vals = {\n",
    "            'mean' : train_data['x'].mean(axis =0),\n",
    "            'std'  : train_data['x'].std(axis=0)\n",
    "        }\n",
    "\n",
    "    # Train Model\n",
    "    \n",
    "    model = deep_surv.DeepSurv(**hyperparams)\n",
    "    \n",
    "    valid_data = None\n",
    "    metrics = model.train(train_data, valid_data, n_epochs = 1200,\n",
    "    update_fn = utils.get_optimizer_from_str('adam'),\n",
    "    validation_frequency = 100)\n",
    "\n",
    "    # Evaluate Model\n",
    "\n",
    "    if hyperparams['standardize']:\n",
    "        train_data = utils.standardize_dataset(train_data, norm_vals['mean'], norm_vals['std'])\n",
    "\n",
    "    metrics = evaluate_model(model, train_data)\n",
    "    print(\"Training metrics: \" + str(metrics))\n",
    "\n",
    "    test_dataset = utils.standardize_dataset(test_data, norm_vals['mean'], norm_vals['std'])\n",
    "    metrics = evaluate_model(model, test_dataset, bootstrap=True)\n",
    "    print(\"Test metrics: \" + str(metrics))"
   ]
  },
  {
   "cell_type": "markdown",
   "metadata": {},
   "source": [
    "# non-linear dist(gaussian)"
   ]
  },
  {
   "cell_type": "code",
   "execution_count": 5,
   "metadata": {},
   "outputs": [],
   "source": [
    "#generate data\n",
    "def generate_data(treatment_group = False):\n",
    "    np.random.seed(123)\n",
    "    sd = deepsurv.datasets.SimulatedData(5, num_features = 15,\n",
    "        treatment_group = treatment_group)\n",
    "    train_data = sd.generate_data(2000,method = 'gaussian')\n",
    "    valid_data = sd.generate_data(600,method = 'gaussian')\n",
    "    test_data = sd.generate_data(600,method = 'gaussian')\n",
    "\n",
    "    return train_data, valid_data, test_data\n",
    "\n",
    "train_data, valid_data, test_data = generate_data()"
   ]
  },
  {
   "cell_type": "code",
   "execution_count": 82,
   "metadata": {},
   "outputs": [
    {
     "name": "stdout",
     "output_type": "stream",
     "text": [
      "Training metrics: {'c_index': 0.6169505582892015}\n",
      "Valid metrics: {'c_index': 0.6169505582892015}\n",
      "Test metrics: {'c_index': 0.6053940918261971, 'c_index_bootstrap': {'mean': 0.6043976354075384, 'confidence_interval': (0.6029620186977578, 0.6058332521173191)}}\n"
     ]
    }
   ],
   "source": [
    "hyperparams ={\"learning_rate\": 0.001485675043584323, \n",
    "              \"dropout\": 0.0735595703125, \n",
    "              \"lr_decay\": 0.00024959960937500004, \n",
    "               \"momentum\": 0.93199267578125, \n",
    "              \"L2_reg\": 2.78821044921875, \n",
    "              \"batch_norm\": False, \n",
    "              \"standardize\": False, \n",
    "              \"n_in\": 9,\n",
    "              \"hidden_layers_sizes\": [39, 39, 39],\n",
    "              \"activation\": \"selu\"}\n",
    "\n",
    "\n",
    "if __name__ == '__main__':\n",
    "\n",
    "    # Load Dataset\n",
    "    norm_vals = {\n",
    "            'mean' : train_data['x'].mean(axis =0),\n",
    "            'std'  : train_data['x'].std(axis=0)\n",
    "        }\n",
    "\n",
    "    # Train Model\n",
    "    \n",
    "    model = deep_surv.DeepSurv(**hyperparams)\n",
    "\n",
    "    metrics = model.train(train_data, valid_data, n_epochs = 1000,\n",
    "    update_fn = utils.get_optimizer_from_str('adam'),\n",
    "    validation_frequency = 100)\n",
    "\n",
    "    # Evaluate Model\n",
    "\n",
    "    if hyperparams['standardize']:\n",
    "        train_data = utils.standardize_dataset(train_data, norm_vals['mean'], norm_vals['std'])\n",
    "\n",
    "    metrics = evaluate_model(model, train_data)\n",
    "    print(\"Training metrics: \" + str(metrics))\n",
    "    if hyperparams['standardize']:\n",
    "        valid_data = utils.standardize_dataset(valid_data, norm_vals['mean'], norm_vals['std'])\n",
    "        metrics = evaluate_model(model, valid_data)\n",
    "    print(\"Valid metrics: \" + str(metrics))\n",
    "\n",
    "    test_dataset = utils.standardize_dataset(test_data, norm_vals['mean'], norm_vals['std'])\n",
    "    metrics = evaluate_model(model, test_dataset, bootstrap=True)\n",
    "    print(\"Test metrics: \" + str(metrics))"
   ]
  },
  {
   "cell_type": "code",
   "execution_count": 15,
   "metadata": {},
   "outputs": [
    {
     "name": "stdout",
     "output_type": "stream",
     "text": [
      "Training metrics: {'c_index': 0.5919729632966998}\n",
      "Valid metrics: {'c_index': 0.5919729632966998}\n",
      "Test metrics: {'c_index': 0.5681025097010134, 'c_index_bootstrap': {'mean': 0.5673261755117299, 'confidence_interval': (0.5647132521582097, 0.5699390988652502)}}\n"
     ]
    }
   ],
   "source": [
    "hyperparams ={\"learning_rate\": 0.001485675043584323, \n",
    "              \"dropout\": 0.0735595703125, \n",
    "              \"lr_decay\": 0.00024959960937500004, \n",
    "               \"momentum\": 0.93199267578125, \n",
    "              \"L2_reg\": 2.78821044921875, \n",
    "              \"batch_norm\": False, \n",
    "              \"standardize\": False, \n",
    "              \"n_in\": 15,\n",
    "              \"hidden_layers_sizes\": [39, 39, 39],\n",
    "              \"activation\": \"selu\"}\n",
    "\n",
    "\n",
    "if __name__ == '__main__':\n",
    "\n",
    "    # Load Dataset\n",
    "    norm_vals = {\n",
    "            'mean' : train_data['x'].mean(axis =0),\n",
    "            'std'  : train_data['x'].std(axis=0)\n",
    "        }\n",
    "\n",
    "    # Train Model\n",
    "    \n",
    "    model = deep_surv.DeepSurv(**hyperparams)\n",
    "\n",
    "    metrics = model.train(train_data, valid_data, n_epochs = 700,\n",
    "    update_fn = utils.get_optimizer_from_str('adam'),\n",
    "    validation_frequency = 100)\n",
    "\n",
    "    # Evaluate Model\n",
    "\n",
    "    if hyperparams['standardize']:\n",
    "        train_data = utils.standardize_dataset(train_data, norm_vals['mean'], norm_vals['std'])\n",
    "\n",
    "    metrics = evaluate_model(model, train_data)\n",
    "    print(\"Training metrics: \" + str(metrics))\n",
    "    if hyperparams['standardize']:\n",
    "        valid_data = utils.standardize_dataset(valid_data, norm_vals['mean'], norm_vals['std'])\n",
    "        metrics = evaluate_model(model, valid_data)\n",
    "    print(\"Valid metrics: \" + str(metrics))\n",
    "\n",
    "    test_dataset = utils.standardize_dataset(test_data, norm_vals['mean'], norm_vals['std'])\n",
    "    metrics = evaluate_model(model, test_dataset, bootstrap=True)\n",
    "    print(\"Test metrics: \" + str(metrics))"
   ]
  },
  {
   "cell_type": "markdown",
   "metadata": {},
   "source": [
    "# linear"
   ]
  },
  {
   "cell_type": "code",
   "execution_count": 16,
   "metadata": {},
   "outputs": [],
   "source": [
    "def generate_data(treatment_group = False):\n",
    "    np.random.seed(123)\n",
    "    sd = deepsurv.datasets.SimulatedData(5, num_features = 15,\n",
    "        treatment_group = treatment_group)\n",
    "    train_data = sd.generate_data(2000,method = 'linear')\n",
    "    valid_data = sd.generate_data(600,method = 'linear')\n",
    "    test_data = sd.generate_data(600,method = 'linear')\n",
    "\n",
    "    return train_data, valid_data, test_data\n",
    "\n",
    "train_data, valid_data, test_data = generate_data()"
   ]
  },
  {
   "cell_type": "code",
   "execution_count": 18,
   "metadata": {},
   "outputs": [
    {
     "name": "stdout",
     "output_type": "stream",
     "text": [
      "Training metrics: {'c_index': 0.7761861148625923}\n",
      "Valid metrics: {'c_index': 0.7619753793300887}\n",
      "Test metrics: {'c_index': 0.7680248252312946, 'c_index_bootstrap': {'mean': 0.7694546272308146, 'confidence_interval': (0.7675427103594148, 0.7713665441022144)}}\n"
     ]
    }
   ],
   "source": [
    "hyperparams ={\"L2_reg\": 3.95590771484375, \n",
    "              \"dropout\": 0.1373681640625, \n",
    "              \"learning_rate\": 0.0005748708832034106, \n",
    "              \"lr_decay\": 0.00022252929687500002, \n",
    "              \"momentum\": 0.8525219726562501, \n",
    "              \"batch_norm\": True, \n",
    "              \"standardize\": True, \n",
    "              \"n_in\": 15, \n",
    "              \"hidden_layers_sizes\": [14, 14]}\n",
    "\n",
    "\n",
    "\n",
    "if __name__ == '__main__':\n",
    "\n",
    "    # Load Dataset\n",
    "    norm_vals = {\n",
    "            'mean' : train_data['x'].mean(axis =0),\n",
    "            'std'  : train_data['x'].std(axis=0)\n",
    "        }\n",
    "\n",
    "    # Train Model\n",
    "    \n",
    "    model = deep_surv.DeepSurv(**hyperparams)\n",
    "\n",
    "    metrics = model.train(train_data, valid_data, n_epochs = 1000,\n",
    "    update_fn = utils.get_optimizer_from_str('adam'),\n",
    "    validation_frequency = 100)\n",
    "\n",
    "    # Evaluate Model\n",
    "\n",
    "    if hyperparams['standardize']:\n",
    "        train_data = utils.standardize_dataset(train_data, norm_vals['mean'], norm_vals['std'])\n",
    "\n",
    "    metrics = evaluate_model(model, train_data)\n",
    "    print(\"Training metrics: \" + str(metrics))\n",
    "    if hyperparams['standardize']:\n",
    "        valid_data = utils.standardize_dataset(valid_data, norm_vals['mean'], norm_vals['std'])\n",
    "        metrics = evaluate_model(model, valid_data)\n",
    "    print(\"Valid metrics: \" + str(metrics))\n",
    "\n",
    "    test_dataset = utils.standardize_dataset(test_data, norm_vals['mean'], norm_vals['std'])\n",
    "    metrics = evaluate_model(model, test_dataset, bootstrap=True)\n",
    "    print(\"Test metrics: \" + str(metrics))"
   ]
  },
  {
   "cell_type": "code",
   "execution_count": null,
   "metadata": {},
   "outputs": [],
   "source": []
  }
 ],
 "metadata": {
  "kernelspec": {
   "display_name": "Python 3",
   "language": "python",
   "name": "python3"
  },
  "language_info": {
   "codemirror_mode": {
    "name": "ipython",
    "version": 3
   },
   "file_extension": ".py",
   "mimetype": "text/x-python",
   "name": "python",
   "nbconvert_exporter": "python",
   "pygments_lexer": "ipython3",
   "version": "3.6.5"
  }
 },
 "nbformat": 4,
 "nbformat_minor": 2
}
