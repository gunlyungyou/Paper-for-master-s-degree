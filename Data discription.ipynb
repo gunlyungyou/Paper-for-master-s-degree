{
 "cells": [
  {
   "cell_type": "markdown",
   "metadata": {},
   "source": [
    "# WHAS"
   ]
  },
  {
   "cell_type": "code",
   "execution_count": 1,
   "metadata": {},
   "outputs": [],
   "source": [
    "import numpy as np\n",
    "import deepsurv\n",
    "import seaborn as sns\n",
    "import pandas as pd\n",
    "from sklearn.model_selection import train_test_split"
   ]
  },
  {
   "cell_type": "code",
   "execution_count": 2,
   "metadata": {},
   "outputs": [
    {
     "name": "stdout",
     "output_type": "stream",
     "text": [
      "e\n",
      "t\n",
      "x\n",
      "total_number :  1638\n",
      "feature_number :  8\n",
      "censored_number :  948\n",
      "censored_rate :  57.87545787545788\n"
     ]
    },
    {
     "name": "stderr",
     "output_type": "stream",
     "text": [
      "C:\\Users\\ASUS\\Anaconda3\\lib\\site-packages\\h5py\\_hl\\dataset.py:313: H5pyDeprecationWarning: dataset.value has been deprecated. Use dataset[()] instead.\n",
      "  \"Use dataset[()] instead.\", H5pyDeprecationWarning)\n"
     ]
    }
   ],
   "source": [
    "import h5py\n",
    "filename = 'C:/Users/ASUS/Dropbox/석사학위논문/DeepSurv-master/data/whas_train_test.h5'\n",
    "f = h5py.File(filename, 'r')\n",
    "\n",
    "#Get the HDF5 group\n",
    "group_train = f['train']\n",
    "group_test = f['test']\n",
    "\n",
    "#Checkout what keys are inside that group.\n",
    "for key in group_train.keys():\n",
    "    print(key)\n",
    "\n",
    "train_x = group_train['x'].value\n",
    "train_t = group_train['t'].value\n",
    "train_e = group_train['e'].value\n",
    "\n",
    "test_x = group_test['x'].value\n",
    "test_t = group_test['t'].value\n",
    "test_e = group_test['e'].value\n",
    "\n",
    "#Do whatever you want with data\n",
    "\n",
    "#After you are done\n",
    "f.close()\n",
    "\n",
    "train_df = pd.DataFrame(train_x)\n",
    "train_df['Time'] = np.int32(train_t)\n",
    "train_df['Event'] = train_e\n",
    "\n",
    "test_df = pd.DataFrame(test_x)\n",
    "test_df['Time'] = np.int32(test_t)\n",
    "test_df['Event'] = test_e\n",
    "\n",
    "#censored number\n",
    "c_number = train_df['Event'].value_counts()[0] + test_df['Event'].value_counts()[0]\n",
    "feat_num = len(list(train_df.columns))\n",
    "total_number = len(train_x) + len(test_x)\n",
    "c_rate = (c_number / total_number) * 100\n",
    "\n",
    "print(\"total_number : \", total_number)\n",
    "print(\"feature_number : \", feat_num)\n",
    "print(\"censored_number : \", c_number)\n",
    "print(\"censored_rate : \" , c_rate)"
   ]
  },
  {
   "cell_type": "code",
   "execution_count": 4,
   "metadata": {},
   "outputs": [
    {
     "data": {
      "text/plain": [
       "array([[ 1.     , 84.     ,  0.     , 22.44662,  1.     ,  1.     ],\n",
       "       [ 0.     , 36.     ,  0.     , 31.64232,  0.     ,  1.     ],\n",
       "       [ 0.     , 76.     ,  0.     , 46.4816 ,  0.     ,  1.     ],\n",
       "       ...,\n",
       "       [ 0.     , 83.     ,  1.     , 27.17021,  0.     ,  1.     ],\n",
       "       [ 0.     , 77.     ,  1.     , 31.61786,  1.     ,  1.     ],\n",
       "       [ 0.     , 69.     ,  0.     , 38.77338,  0.     ,  0.     ]],\n",
       "      dtype=float32)"
      ]
     },
     "execution_count": 4,
     "metadata": {},
     "output_type": "execute_result"
    }
   ],
   "source": [
    "#네번째 변수가 CHF\n",
    "train_x"
   ]
  },
  {
   "cell_type": "markdown",
   "metadata": {},
   "source": [
    "# SUPPORT"
   ]
  },
  {
   "cell_type": "code",
   "execution_count": 19,
   "metadata": {},
   "outputs": [
    {
     "name": "stdout",
     "output_type": "stream",
     "text": [
      "e\n",
      "t\n",
      "x\n",
      "total_number :  8873\n",
      "feature_number :  16\n",
      "censored_number :  2837\n",
      "censored_rate :  31.97340245689169\n"
     ]
    },
    {
     "name": "stderr",
     "output_type": "stream",
     "text": [
      "C:\\Users\\ASUS\\Anaconda3\\lib\\site-packages\\h5py\\_hl\\dataset.py:313: H5pyDeprecationWarning: dataset.value has been deprecated. Use dataset[()] instead.\n",
      "  \"Use dataset[()] instead.\", H5pyDeprecationWarning)\n"
     ]
    }
   ],
   "source": [
    "import h5py\n",
    "filename = 'C:/Users/ASUS/Dropbox/석사학위논문/DeepSurv-master/data/support_train_test.h5'\n",
    "f = h5py.File(filename, 'r')\n",
    "\n",
    "#Get the HDF5 group\n",
    "group_train = f['train']\n",
    "group_test = f['test']\n",
    "\n",
    "#Checkout what keys are inside that group.\n",
    "for key in group_train.keys():\n",
    "    print(key)\n",
    "\n",
    "train_x = group_train['x'].value\n",
    "train_t = group_train['t'].value\n",
    "train_e = group_train['e'].value\n",
    "\n",
    "test_x = group_test['x'].value\n",
    "test_t = group_test['t'].value\n",
    "test_e = group_test['e'].value\n",
    "\n",
    "#Do whatever you want with data\n",
    "\n",
    "#After you are done\n",
    "f.close()\n",
    "\n",
    "train_df = pd.DataFrame(train_x)\n",
    "train_df['Time'] = np.int32(train_t)\n",
    "train_df['Event'] = train_e\n",
    "\n",
    "test_df = pd.DataFrame(test_x)\n",
    "test_df['Time'] = np.int32(test_t)\n",
    "test_df['Event'] = test_e\n",
    "\n",
    "#censored number\n",
    "c_number = train_df['Event'].value_counts()[0] + test_df['Event'].value_counts()[0]\n",
    "feat_num = len(list(train_df.columns))\n",
    "total_number = len(train_x) + len(test_x)\n",
    "c_rate = (c_number / total_number) * 100\n",
    "\n",
    "print(\"total_number : \", total_number)\n",
    "print(\"feature_number : \", feat_num)\n",
    "print(\"censored_number : \", c_number)\n",
    "print(\"censored_rate : \" , c_rate)"
   ]
  },
  {
   "cell_type": "code",
   "execution_count": 20,
   "metadata": {},
   "outputs": [
    {
     "data": {
      "text/plain": [
       "array([ 79.66095   ,   1.        ,   0.        ,   1.        ,\n",
       "         0.        ,   0.        ,   1.        ,  54.        ,\n",
       "        67.        ,  16.        ,  38.        , 142.        ,\n",
       "        10.        ,   0.89990234], dtype=float32)"
      ]
     },
     "execution_count": 20,
     "metadata": {},
     "output_type": "execute_result"
    }
   ],
   "source": [
    "#당뇨의 유무는 다섯번째 변수\n",
    "train_x[1]"
   ]
  },
  {
   "cell_type": "markdown",
   "metadata": {},
   "source": [
    "# METABRIC"
   ]
  },
  {
   "cell_type": "code",
   "execution_count": 11,
   "metadata": {},
   "outputs": [
    {
     "name": "stdout",
     "output_type": "stream",
     "text": [
      "e\n",
      "t\n",
      "x\n",
      "total_number :  1904\n",
      "feature_number :  11\n",
      "censored_number :  801\n",
      "censored_rate :  42.069327731092436\n"
     ]
    },
    {
     "name": "stderr",
     "output_type": "stream",
     "text": [
      "C:\\Users\\ASUS\\Anaconda3\\lib\\site-packages\\h5py\\_hl\\dataset.py:313: H5pyDeprecationWarning: dataset.value has been deprecated. Use dataset[()] instead.\n",
      "  \"Use dataset[()] instead.\", H5pyDeprecationWarning)\n"
     ]
    }
   ],
   "source": [
    "import h5py\n",
    "filename = 'C:/Users/ASUS/Dropbox/석사학위논문/DeepSurv-master/data/metabric_IHC4_clinical_train_test.h5'\n",
    "f = h5py.File(filename, 'r')\n",
    "\n",
    "#Get the HDF5 group\n",
    "group_train = f['train']\n",
    "group_test = f['test']\n",
    "\n",
    "#Checkout what keys are inside that group.\n",
    "for key in group_train.keys():\n",
    "    print(key)\n",
    "\n",
    "train_x = group_train['x'].value\n",
    "train_t = group_train['t'].value\n",
    "train_e = group_train['e'].value\n",
    "\n",
    "test_x = group_test['x'].value\n",
    "test_t = group_test['t'].value\n",
    "test_e = group_test['e'].value\n",
    "\n",
    "#Do whatever you want with data\n",
    "\n",
    "#After you are done\n",
    "f.close()\n",
    "\n",
    "train_df = pd.DataFrame(train_x)\n",
    "train_df['Time'] = np.int32(train_t)\n",
    "train_df['Event'] = train_e\n",
    "\n",
    "test_df = pd.DataFrame(test_x)\n",
    "test_df['Time'] = np.int32(test_t)\n",
    "test_df['Event'] = test_e\n",
    "\n",
    "#censored number\n",
    "c_number = train_df['Event'].value_counts()[0] + test_df['Event'].value_counts()[0]\n",
    "feat_num = len(list(train_df.columns))\n",
    "total_number = len(train_x) + len(test_x)\n",
    "c_rate = (c_number / total_number) * 100\n",
    "\n",
    "print(\"total_number : \", total_number)\n",
    "print(\"feature_number : \", feat_num)\n",
    "print(\"censored_number : \", c_number)\n",
    "print(\"censored_rate : \" , c_rate)"
   ]
  },
  {
   "cell_type": "code",
   "execution_count": 17,
   "metadata": {},
   "outputs": [
    {
     "data": {
      "text/plain": [
       "array([ 5.2848816,  9.581043 , 10.20462  ,  5.6649704,  1.       ,\n",
       "        0.       ,  0.       ,  1.       , 85.94     ], dtype=float32)"
      ]
     },
     "execution_count": 17,
     "metadata": {},
     "output_type": "execute_result"
    }
   ],
   "source": [
    "#7번째가 화학요법 여부\n",
    "train_x[1]"
   ]
  },
  {
   "cell_type": "markdown",
   "metadata": {},
   "source": [
    "# GBSG"
   ]
  },
  {
   "cell_type": "code",
   "execution_count": 7,
   "metadata": {},
   "outputs": [
    {
     "name": "stdout",
     "output_type": "stream",
     "text": [
      "e\n",
      "t\n",
      "x\n",
      "total_number :  2232\n",
      "feature_number :  9\n",
      "censored_number :  965\n",
      "censored_rate :  43.2347670250896\n"
     ]
    },
    {
     "name": "stderr",
     "output_type": "stream",
     "text": [
      "C:\\Users\\ASUS\\Anaconda3\\lib\\site-packages\\h5py\\_hl\\dataset.py:313: H5pyDeprecationWarning: dataset.value has been deprecated. Use dataset[()] instead.\n",
      "  \"Use dataset[()] instead.\", H5pyDeprecationWarning)\n"
     ]
    }
   ],
   "source": [
    "import h5py\n",
    "filename = 'C:/Users/ASUS/Dropbox/석사학위논문/DeepSurv-master/data/gbsg_cancer_train_test.h5'\n",
    "f = h5py.File(filename, 'r')\n",
    "\n",
    "#Get the HDF5 group\n",
    "group_train = f['train']\n",
    "group_test = f['test']\n",
    "\n",
    "#Checkout what keys are inside that group.\n",
    "for key in group_train.keys():\n",
    "    print(key)\n",
    "\n",
    "train_x = group_train['x'].value #1545\n",
    "train_t = group_train['t'].value\n",
    "train_e = group_train['e'].value\n",
    "\n",
    "test_x = group_test['x'].value #686\n",
    "test_t = group_test['t'].value\n",
    "test_e = group_test['e'].value\n",
    "\n",
    "\n",
    "#After you are done\n",
    "f.close()\n",
    "\n",
    "train_df = pd.DataFrame(train_x)\n",
    "train_df['Time'] = np.int32(train_t)\n",
    "train_df['Event'] = train_e\n",
    "\n",
    "test_df = pd.DataFrame(test_x)\n",
    "test_df['Time'] = np.int32(test_t)\n",
    "test_df['Event'] = test_e\n",
    "\n",
    "#censored number\n",
    "c_number = train_df['Event'].value_counts()[0] + test_df['Event'].value_counts()[0]\n",
    "feat_num = len(list(train_df.columns))\n",
    "total_number = len(train_x) + len(test_x)\n",
    "c_rate = (c_number / total_number) * 100\n",
    "\n",
    "print(\"total_number : \", total_number)\n",
    "print(\"feature_number : \", feat_num)\n",
    "print(\"censored_number : \", c_number)\n",
    "print(\"censored_rate : \" , c_rate)"
   ]
  },
  {
   "cell_type": "markdown",
   "metadata": {},
   "source": [
    "# NWTCO"
   ]
  },
  {
   "cell_type": "code",
   "execution_count": 15,
   "metadata": {},
   "outputs": [
    {
     "name": "stdout",
     "output_type": "stream",
     "text": [
      "total_number :  4028\n",
      "feature_number :  8\n",
      "censored_number :  3457\n",
      "censored_rate :  85.82423038728898\n"
     ]
    }
   ],
   "source": [
    "#nwtco 데이터 불러오기\n",
    "nwtco = pd.read_csv('C:/Users/ASUS/Dropbox/석사학위논문/DeepSurv-master/data/nwtco.csv')\n",
    "train_df = nwtco.drop('seqno', axis = 1)\n",
    "train_df = train_df.rename(columns = {'rel':'Event', 'edrel':'Time'})\n",
    "\n",
    "#censored number\n",
    "c_number = train_df['Event'].value_counts()[0]\n",
    "feat_num = len(list(train_df.columns))\n",
    "total_number = len(train_df['Event'])\n",
    "c_rate = (c_number / total_number) * 100\n",
    "\n",
    "print(\"total_number : \", total_number)\n",
    "print(\"feature_number : \", feat_num)\n",
    "print(\"censored_number : \", c_number)\n",
    "print(\"censored_rate : \" , c_rate)\n",
    "\n",
    "#data split\n",
    "train_df, test_df = train_test_split(train_df, test_size = 0.2)\n",
    "train_df, val_df = train_test_split(train_df, test_size = 0.2)"
   ]
  },
  {
   "cell_type": "code",
   "execution_count": 16,
   "metadata": {},
   "outputs": [
    {
     "data": {
      "text/html": [
       "<div>\n",
       "<style scoped>\n",
       "    .dataframe tbody tr th:only-of-type {\n",
       "        vertical-align: middle;\n",
       "    }\n",
       "\n",
       "    .dataframe tbody tr th {\n",
       "        vertical-align: top;\n",
       "    }\n",
       "\n",
       "    .dataframe thead th {\n",
       "        text-align: right;\n",
       "    }\n",
       "</style>\n",
       "<table border=\"1\" class=\"dataframe\">\n",
       "  <thead>\n",
       "    <tr style=\"text-align: right;\">\n",
       "      <th></th>\n",
       "      <th>instit</th>\n",
       "      <th>histol</th>\n",
       "      <th>stage</th>\n",
       "      <th>study</th>\n",
       "      <th>Event</th>\n",
       "      <th>Time</th>\n",
       "      <th>age</th>\n",
       "      <th>in.subcohort</th>\n",
       "    </tr>\n",
       "  </thead>\n",
       "  <tbody>\n",
       "    <tr>\n",
       "      <th>1466</th>\n",
       "      <td>1</td>\n",
       "      <td>1</td>\n",
       "      <td>1</td>\n",
       "      <td>3</td>\n",
       "      <td>0</td>\n",
       "      <td>3582</td>\n",
       "      <td>31</td>\n",
       "      <td>0</td>\n",
       "    </tr>\n",
       "    <tr>\n",
       "      <th>3901</th>\n",
       "      <td>1</td>\n",
       "      <td>1</td>\n",
       "      <td>3</td>\n",
       "      <td>4</td>\n",
       "      <td>0</td>\n",
       "      <td>642</td>\n",
       "      <td>38</td>\n",
       "      <td>0</td>\n",
       "    </tr>\n",
       "    <tr>\n",
       "      <th>1560</th>\n",
       "      <td>1</td>\n",
       "      <td>1</td>\n",
       "      <td>1</td>\n",
       "      <td>3</td>\n",
       "      <td>0</td>\n",
       "      <td>3343</td>\n",
       "      <td>8</td>\n",
       "      <td>0</td>\n",
       "    </tr>\n",
       "    <tr>\n",
       "      <th>855</th>\n",
       "      <td>1</td>\n",
       "      <td>1</td>\n",
       "      <td>1</td>\n",
       "      <td>3</td>\n",
       "      <td>0</td>\n",
       "      <td>4753</td>\n",
       "      <td>10</td>\n",
       "      <td>0</td>\n",
       "    </tr>\n",
       "    <tr>\n",
       "      <th>1387</th>\n",
       "      <td>1</td>\n",
       "      <td>1</td>\n",
       "      <td>1</td>\n",
       "      <td>3</td>\n",
       "      <td>1</td>\n",
       "      <td>144</td>\n",
       "      <td>7</td>\n",
       "      <td>0</td>\n",
       "    </tr>\n",
       "    <tr>\n",
       "      <th>...</th>\n",
       "      <td>...</td>\n",
       "      <td>...</td>\n",
       "      <td>...</td>\n",
       "      <td>...</td>\n",
       "      <td>...</td>\n",
       "      <td>...</td>\n",
       "      <td>...</td>\n",
       "      <td>...</td>\n",
       "    </tr>\n",
       "    <tr>\n",
       "      <th>2417</th>\n",
       "      <td>1</td>\n",
       "      <td>1</td>\n",
       "      <td>1</td>\n",
       "      <td>4</td>\n",
       "      <td>1</td>\n",
       "      <td>148</td>\n",
       "      <td>50</td>\n",
       "      <td>0</td>\n",
       "    </tr>\n",
       "    <tr>\n",
       "      <th>2047</th>\n",
       "      <td>1</td>\n",
       "      <td>1</td>\n",
       "      <td>1</td>\n",
       "      <td>4</td>\n",
       "      <td>0</td>\n",
       "      <td>2636</td>\n",
       "      <td>25</td>\n",
       "      <td>0</td>\n",
       "    </tr>\n",
       "    <tr>\n",
       "      <th>1231</th>\n",
       "      <td>2</td>\n",
       "      <td>2</td>\n",
       "      <td>4</td>\n",
       "      <td>3</td>\n",
       "      <td>1</td>\n",
       "      <td>172</td>\n",
       "      <td>67</td>\n",
       "      <td>0</td>\n",
       "    </tr>\n",
       "    <tr>\n",
       "      <th>2927</th>\n",
       "      <td>1</td>\n",
       "      <td>1</td>\n",
       "      <td>3</td>\n",
       "      <td>4</td>\n",
       "      <td>1</td>\n",
       "      <td>229</td>\n",
       "      <td>44</td>\n",
       "      <td>1</td>\n",
       "    </tr>\n",
       "    <tr>\n",
       "      <th>1636</th>\n",
       "      <td>1</td>\n",
       "      <td>1</td>\n",
       "      <td>2</td>\n",
       "      <td>3</td>\n",
       "      <td>0</td>\n",
       "      <td>3529</td>\n",
       "      <td>36</td>\n",
       "      <td>1</td>\n",
       "    </tr>\n",
       "  </tbody>\n",
       "</table>\n",
       "<p>2577 rows × 8 columns</p>\n",
       "</div>"
      ],
      "text/plain": [
       "      instit  histol  stage  study  Event  Time  age  in.subcohort\n",
       "1466       1       1      1      3      0  3582   31             0\n",
       "3901       1       1      3      4      0   642   38             0\n",
       "1560       1       1      1      3      0  3343    8             0\n",
       "855        1       1      1      3      0  4753   10             0\n",
       "1387       1       1      1      3      1   144    7             0\n",
       "...      ...     ...    ...    ...    ...   ...  ...           ...\n",
       "2417       1       1      1      4      1   148   50             0\n",
       "2047       1       1      1      4      0  2636   25             0\n",
       "1231       2       2      4      3      1   172   67             0\n",
       "2927       1       1      3      4      1   229   44             1\n",
       "1636       1       1      2      3      0  3529   36             1\n",
       "\n",
       "[2577 rows x 8 columns]"
      ]
     },
     "execution_count": 16,
     "metadata": {},
     "output_type": "execute_result"
    }
   ],
   "source": [
    "#두번째 변수가 중앙부가 넓지 않고 favorable 한지 여부\n",
    "train_df"
   ]
  },
  {
   "cell_type": "code",
   "execution_count": null,
   "metadata": {},
   "outputs": [],
   "source": [
    "Favorable histology: The cancer cells in these tumors don’t look quite normal, \n",
    "    but there is no anaplasia (see next paragraph). About 9 of 10 Wilms tumors have a favorable histology. \n",
    "    The chance of curing children with these tumors is very good."
   ]
  }
 ],
 "metadata": {
  "kernelspec": {
   "display_name": "Python 3",
   "language": "python",
   "name": "python3"
  },
  "language_info": {
   "codemirror_mode": {
    "name": "ipython",
    "version": 3
   },
   "file_extension": ".py",
   "mimetype": "text/x-python",
   "name": "python",
   "nbconvert_exporter": "python",
   "pygments_lexer": "ipython3",
   "version": "3.6.5"
  }
 },
 "nbformat": 4,
 "nbformat_minor": 2
}
